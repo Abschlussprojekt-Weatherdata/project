{
 "cells": [
  {
   "cell_type": "markdown",
   "metadata": {},
   "source": [
    "<center>\n",
    "    course: <b>Data Analytics with Statistics</b> | lecturer: <b>Prof. Dr. Jan Kirenz</b> | Date: <b>01.12.2023</b>  | Name: <b>Julian Erath, Furkan Saygin, Sofie Pischl</b> | Group: <b> Group B</b> \n",
    "</center>\n",
    "\n",
    "<h1 align=\"center\"> Project Proposal </h1>\n",
    "<h3 align=\"center\"> Weather Data Analysis Using Regression and Classification on ERA5 Dataset  </h3>\n",
    "\n",
    "<center>\n",
    " <b> Group iBm  </b>\n",
    "</center>\n"
   ]
  },
  {
   "cell_type": "markdown",
   "metadata": {},
   "source": [
    "**Scope of the Project:**\n",
    "\n",
    "The project aims to analyze and derive insights from the ERA5 (ECMWF Reanalysis version 5) weather dataset. It involves both regression and classification analyses to model and predict various weather parameters as well as gain insights on correlations, causations and patterns involving the parameters. The ERA5 dataset, provided by the European Centre for Medium-Range Weather Forecasts (ECMWF), is a high-quality global atmospheric reanalysis dataset covering multiple decades. The analysis will focus on the region of Bancroft in Ontario, Canada."
   ]
  },
  {
   "cell_type": "markdown",
   "metadata": {},
   "source": [
    "## 1. Introduction\n",
    "## Unraveling the Mysteries of Weather: An Analytical Approach\n",
    "\n",
    "### 1.1 Introduction to Subject\n",
    "\n",
    "#### Exploring the Atmosphere Through Data\n",
    "Weather, a phenomenon as old as Earth itself, has long been a subject of human fascination and inquiry. The intricate dance of temperature, wind, and precipitation shapes our environment, affects our lives, and challenges our understanding of the natural world. With the advent of technology and data analysis techniques, we are now poised to dive deeper into these complex processes. Our project, \"Weather Data Analysis Using Regression and Classification on ERA5 Dataset,\" aims to contribute to this ongoing exploration by examining how different variables interact to create complex weather phenomena.\n",
    "\n",
    "##### Geographic Focus: Bancroft, Canada\n",
    "While our project leverages the ERA5 dataset, we have chosen to specifically focus on Bancroft in Canada, for an in-depth analysis. This decision is rooted in the unique climatic and meteorological characteristics of the region, which offer a distinctive case study for understanding complex weather phenomena. Bancroft's location and environmental conditions provide a microcosm for examining the interactions between various atmospheric variables, making it an ideal setting for applying our regression and classification analyses to real-world data. This focused approach allows for a more nuanced exploration of weather patterns and their impacts in a specific geographic context.\n",
    "\n",
    "### 1.2 Motivation for Research Question\n",
    "### The Impetus for Investigation\n",
    "Our motivation is rooted in both historical interest and present-day necessity. As highlighted in a systematic review titled \"The contribution of weather forecast information to agriculture, water, and energy sectors in East and West Africa,\" accurate weather prediction is crucial for effective agriculture, disaster management, and urban planning, particularly in the context of climate change risks[^1]. The Lake Effect, illustrated in \"A Hybrid Dataset of Historical Cool-Season Lake Effects From the Eastern Great Lakes of North America,\", is a phenomenon where cold winds moving over warmer lake waters can cause significant changes in weather patterns nearby, is a example of the complexity in weather systems [^2]. The European Centre for Medium-Range Weather Forecasts (ECMWF) and its ERA5 dataset provide an unprecedented opportunity to analyze detailed weather parameters over several decades. This data, examined for its comprehensiveness in the \"Evaluation of spatial-temporal variation performance of ERA5 precipitation data in China,\" is a valuable resource for researchers seeking to understand weather patterns and atmospheric dynamics[^3].\n",
    "This dataset allows for an in-depth analysis of weather patterns and atmospheric dynamics across different regions, including phenomena such as the Lake Effect, which exemplifies the intricate relationship between wind direction and temperature\n",
    "\n",
    "[^1]: [The contribution of weather forecast information to agriculture, water, and energy sectors in East and West Africa](https://www.frontiersin.org/articles/10.3389/fenvs.2022.935696/full)\n",
    "[^2]: [A Hybrid Dataset of Historical Cool-Season Lake Effects From the Eastern Great Lakes of North America](https://www.frontiersin.org/journals/water/articles/10.3389/frwa.2022.788493/full)\n",
    "[^3]: [Evaluation of spatial-temporal variation performance of ERA5 precipitation data in China](https://www.nature.com/articles/s41598-021-97432-y)\n",
    "\n",
    "\n",
    "### 1.3 General Research Question\n",
    "The research is guided by four pivotal questions, addressed through regression and classification analyses.\n",
    "\n",
    "#### Research questions\n",
    "\n",
    "**Regression Analysis:**\n",
    "How accurately can we predict temperature and its relationship with wind characteristics using historical data? This question is inspired by the current understanding of atmospheric variables and their interactions and specified as follows:\n",
    "\n",
    "- *Temperature Prediction:* Can we build an accurate regression model to predict temperature based on historical data? This involves exploring the relationships between temperature time (daytime, day, season, etc.). The result of this regression analysis is the identification of a trend in the weather data as well the prediction of the temperature for the next x days, weeks, etc. based on the historical weather.\n",
    "\n",
    "- *Temperature and Wind Modeling:* Can we find a correlation or causation between the temperature and windspeed, windgust or winddirection using regression techniques? This involves investigating the impact of independent variables (wind features) on the temperature. The result of this regression analysis is the identification of the correlation or causation between wind features and the temperature based on the historical weather.\n",
    "As an outlook to this analysis it could also be analyzed whether certain winddirections result in a certain type of weather event (classification?).\n",
    "\n",
    "**Classification Analysis:**\n",
    "Can we effectively classify and predict weather events, including extreme occurrences, based on multivariate weather data? This aspect of the research aims to develop methods for accurate prediction of weather events, acknowledging the complexity and variability of weather patterns and is specified as follows:\n",
    "\n",
    "- *Extreme Weather Events:* Can we classify and predict extreme weather events such as storms? This involves training a binary classification model to identify patterns indicative of extreme events. The result of this classification analysis is the prediction of extreme weather events based on the current weather data and a model that was trained on historical weather data.\n",
    "\n",
    "- *Weather Event and Pattern Classification:* Is it possible to categorize and predict different weather patterns (e.g., clear skies, rain, snow, etc.) based on multivariate weather data? This involves using multiclass classification algorithms. The results of this classification analysis is the predection of certain weather events based on the current weather data and a model that was trained on historical weather data.\n",
    "\n",
    "### 1.4 Hypotheses Regarding Question\n",
    "Our hypotheses are twofold, corresponding to our dual analytical approach:\n",
    "\n",
    "In Regression: We hypothesize that there exists a significant correlation between temperature and wind characteristics, which can be modeled to predict future temperature trends and variations. This hypothesis is based on the premise that atmospheric variables are interconnected and can be analyzed to forecast weather conditions.\n",
    "\n",
    "In Classification: We anticipate that specific patterns in the weather data can accurately predict various weather events, including extreme conditions. This hypothesis is informed by the need for effective prediction models in the face of increasingly frequent and severe weather events.\n",
    "\n",
    "### 1.5 Setup\n",
    "#### 1.5.1 Methodological Insights and Impact\n",
    "We intend to employ a range of statistical and machine learning techniques to analyze the ERA5 dataset. The outcomes of this research are expected to not only enhance meteorological understanding but also provide practical tools for weather prediction, with implications for environmental policy and public safety.\n",
    "\n",
    "In conclusion, this project represents an intersection of historical interest and modern analytical capability. By harnessing the power of the ERA5 dataset and advanced analytical techniques, we aim to contribute valuable insights to the field of meteorology and support informed decision-making in a world increasingly affected by weather-related challenges.\n",
    "\n",
    "\n",
    "#### 1.5.2 Methodology Overview\n",
    "This project uses a multifaceted approach, primarily utilizing Design Science Research (DSR) in line with Hesse's framework[^4]. This methodological framework focuses on the creation and critical evaluation of artifacts to address specific problems. In our DSR approach, we identify and define complex weather phenomena as problems to be addressed. Additionally, iterative prototyping is employed, enabling systematic refinement of models and methods based on continuous evaluation and integration of data-driven insights[^5]. This project combines the DSR cycle by Hesse, with iterative prototyping. This integration fosters a dynamic environment where each prototype's development and evaluation progressively inform subsequent cycles of design and analysis. This leads us into a cycle of artifact creation (in our case, models and algorithms) specifically tailored to analyze weather patterns in Bancroft using the ERA5 dataset. These models will be refined continuously through iterative prototyping, where each iteration's outcomes inform the next cycle, ensuring they are increasingly effective and accurate. The artifacts are then rigorously evaluated against our research questions related to temperature prediction and weather event classification.  This process is enriched by a comprehensive literature review, ensuring our methods and analyses remain aligned with current meteorological and data science advancements. The amalgamation of DSR, iterative prototyping, and literature research forms the foundation of our approach, ensuring a thorough and robust analysis that is well-suited to address the complexities inherent in atmospheric data analysis.\n",
    "\n",
    "[^4]: [Design Science in Information Systems Research.](https://www.researchgate.net/publication/201168946_Design_Science_in_Information_Systems_Research)\n",
    "[^5]: [Reflective physical prototyping through integrated design, test, and analysis](https://www.researchgate.net/publication/220877433_Reflective_physical_prototyping_through_integrated_design_test_and_analysis)\n",
    "\n",
    "<img src=\"./GitHub/project/project/references/images/complete_map.png\" alt=\"Alternative text\" />\n"
   ]
  },
  {
   "cell_type": "markdown",
   "metadata": {},
   "source": [
    "## 2. Data Description\n",
    "\n",
    "\n",
    "### 2.1 Description of Observations in the Dataset\n",
    "\n",
    "#### 2.1.1 General Data Description\n",
    "- **Source:** ERA5 dataset by ECMWF (https://www.ecmwf.int/en/forecasts/datasets/reanalysis-datasets/era5)\n",
    "- **Temporal Coverage:** Multiple decades (2015-2022) (https://confluence.ecmwf.int/display/CKB/ERA5%3A+data+documentation)\n",
    "- **Spatial Resolution:** Approximately 31 km (https://confluence.ecmwf.int/display/CKB/ERA5%3A+data+documentation)\n",
    "- **Parameters/Variables:** Includes but not limited to temperature, precipitation, wind speed, atmospheric pressure, etc. (https://confluence.ecmwf.int/display/CKB/ERA5%3A+data+documentation#ERA5:datadocumentation-Parameterlistings)\n",
    "- **Labels:** The data has been labelled in weather event profiles by meteorologists and data scientists from IBM and The Weather Company.\n",
    "- **Observations:** The ERA5 weather dataset provides comprehensive atmospheric information on a global scale, with each observation (row) in the dataset representing a set of meteorological parameters at a specific location and time. \n",
    "\n",
    "The ERA5 dataset is provided by the European Centre for Medium-Range Weather Forecasts (ECMWF). It is a product of atmospheric reanalysis, a process that involves assimilating observational data from various sources into a numerical weather prediction model. \n"
   ]
  },
  {
   "cell_type": "markdown",
   "metadata": {},
   "source": [
    "#### 2.1.2 Data Characterisitcs\n",
    "\n",
    "- **Temporal Aspect:** The dataset provides temporal information at various intervals (e.g., hourly or monthly), allowing for both short-term and long-term analyses.\n",
    "  \n",
    "- **Spatial Aspect:** With a spatial resolution of around 31 km, the dataset provides a comprehensive global coverage, facilitating region-specific studies. In this project a geographical resolution for the region Bancroft in Ontario, Canada is chosen (as this area is of particular interest for IBM).\n",
    "\n",
    "- **Multivariate Nature:** Multiple meteorological parameters are available, enabling a comprehensive analysis of weather patterns.\n",
    "\n",
    "- **Quality:** ERA5 is known for its high quality and precision, making it suitable for detailed analyses and modeling.\n",
    "\n",
    "#### 2.1.3 Variables / Parameters\n",
    "\n",
    "The ERA5 dataset is comprehensive, providing a wide range of meteorological variables that cover various aspects of the Earth's atmosphere. The observations and general characteristics measured in the ERA5 dataset are crucial for understanding and analyzing weather and climate patterns. Some of the key variables included in the dataset are:\n",
    "\n",
    "1. **Temperature:** ERA5 provides information on air temperature at different levels of the atmosphere. This includes 2-meter temperature, which is often used as a representative of surface temperature.\n",
    "\n",
    "2. **Wind:** Wind speed, gust and direction are essential meteorological parameters. ERA5 includes information on both zonal (east-west) and meridional (north-south) components of the wind at different altitudes.\n",
    "\n",
    "3. **Precipitation:** Precipitation data includes rainfall and snowfall. This information is crucial for understanding water cycles and is vital for various applications, including hydrology and agriculture.\n",
    "\n",
    "4. **Pressure:** Atmospheric pressure at different levels is provided in the dataset. Changes in atmospheric pressure are associated with weather patterns and can influence local weather conditions.\n",
    "\n",
    "5. **Humidity:** Relative humidity and specific humidity are included, providing insights into the moisture content of the atmosphere. This is important for understanding cloud formation and precipitation processes.\n",
    "\n",
    "6. **Snow and ice:** Snow density as well as cumulative snow and ice are included.\n",
    "\n",
    "7. **Other Atmospheric Parameters** \n",
    "   \n",
    "These variables collectively provide a detailed snapshot of the Earth's atmosphere and are fundamental for conducting both regression and classification analyses. Researchers and meteorologists often leverage these variables to study climate trends, weather patterns, and environmental changes. The high spatial and temporal resolution of the ERA5 dataset enhances its utility for diverse applications, including climate research, environmental monitoring, and weather forecasting.\n",
    "\n",
    "\n",
    "\n",
    "#### 2.1.4 Population and sample\n",
    "\n",
    "The data population of the ERA5 dataset refers to the entirety of the atmospheric observations encompassed by the ERA5 dataset. It includes all global weather data recorded and simulated by the ERA5 reanalysis project. The population covers a vast range of geographical locations, spanning the entire globe, and spans several decades, as reanalysis data provides long-term climate records.\n",
    "\n",
    "The used sample for this project is a subset of the data population that is extracted and analyzed for the specific study and investigation.\n",
    "The sample is tailored based on temporal, spatial, or variable-specific criteria. In this instance the sample subset corresponds to the region of Bancroft in Ontario, Canada for the timespan of 2015 to 2022. For this region and timespan the data is holistic and and focusing on the meteorological parameters stated under 7. Working with this specific sample allows to address the specific research, conducting exploratory analyses and creating targeted visualizations for only the interesting area while also saving computing resources by not calculating on redundant data or falsify the analysis by using irrelevant data for the research goal.\n",
    "\n",
    "#### 2.1.5 Overview of data and structure\n",
    "\n",
    "In the following code snippets the data will be transformed to be able to better visualize and analyse it. Some features might be recalculated (e.g., by calculating the average for every week for visualization).\n",
    "\n",
    "At first the data is loaded from the .csv file and the head of the data is printed to have a first look at the columns (variables) and rows (observations) of the data. The dataset consists of 65345 observations, 184 columns (including the useful and unique predictor variables and reasonable response variable mentioned in chapter \"Variables / parameters\", identifier variables \"Unnamed: 0\" (this might previously be used as an index and will be dropped for the further analysis becuase of redundancy), run_datetime\tand valid_datetime (which contain the datetime for the observation, which is not only an identifier variable but can also be used in the analysis e.g., time series analysis)).\n",
    "In a next step the distribution and statistics of the variables will be taken a closer look at by analyzing their quantiles, minima, maxima and maxima.\n",
    "\n",
    "#### 2.1.6 Import data"
   ]
  },
  {
   "cell_type": "code",
   "execution_count": null,
   "metadata": {},
   "outputs": [],
   "source": [
    "import pandas as pd\n",
    "\n",
    "df = pd.read_csv(\"./GitHub/project/project/data/external/feature_data_substation_bancroft_labelled.csv\")\n",
    "print(df.info())\n",
    "print(df.dtypes)\n",
    "df.head()"
   ]
  },
  {
   "cell_type": "markdown",
   "metadata": {},
   "source": [
    "### 2.1.7 Descriptive statistics"
   ]
  },
  {
   "cell_type": "code",
   "execution_count": null,
   "metadata": {},
   "outputs": [],
   "source": [
    "df = df.drop(df.columns[0], axis=1)\n",
    "df.describe().T"
   ]
  },
  {
   "cell_type": "markdown",
   "metadata": {},
   "source": [
    "---\n"
   ]
  },
  {
   "cell_type": "markdown",
   "metadata": {},
   "source": [
    "After getting a closer overlook over the data some basic explorative data analysis will be conducted to visualize the mean, quantiles, shape, distribution, variance, etc. of the data and analyze the correlation of the variables.\n",
    "\n",
    "At first, the most relevant predictor and response variables are calculated (already done in previous work of IBM with the dataset) in order to visualize their development over time in a time series analysis. \n",
    "The temperature measurements average temperature (avg_temp), minimal wet bulb temperature (min_wet_bulb_temp) and average temperature change (avg_temp_change) are shown in Kelvin. \n",
    "Measurements of wind are given as the average windspeed (avg_windspd), the maximal windgust (max_windgust) and the average winddirection (avg_winddir).\n",
    "Weather events are measured as maximal cumulaive precipation (max_cum_precip), maximal snow density (max_snow_density_6), maximal cumulative snow (mamax_cumulative_snow), maximal cumulative ice (max_cumulative_ice) and the average pressure change (avg_pressure_change)."
   ]
  },
  {
   "cell_type": "markdown",
   "metadata": {},
   "source": [
    "### 2.1.8 Exploratory data analysis"
   ]
  },
  {
   "cell_type": "code",
   "execution_count": null,
   "metadata": {},
   "outputs": [],
   "source": [
    "import matplotlib.pyplot as plt\n",
    "from matplotlib import rcParams\n",
    "import seaborn as sns\n",
    "\n",
    "rcParams['figure.figsize'] = 20, 15\n",
    "sns.set(style=\"darkgrid\")\n",
    "\n",
    "parameters = [\n",
    "        ('avg_temp', 'Kelvin'),\n",
    "        ('min_wet_bulb_temp', 'Kelvin'),\n",
    "        ('avg_dewpoint', 'Kelvin'),\n",
    "        ('avg_temp_change', 'Kelvin'),\n",
    "        ('avg_windspd', 'm/s'),\n",
    "        ('max_windgust', 'm/s'),\n",
    "        ('avg_winddir', 'degrees'),\n",
    "        ('max_cumulative_precip', 'mm'),\n",
    "        ('max_snow_density_6', 'kg/m^3'),\n",
    "        ('max_cumulative_snow', 'mm'),\n",
    "        ('max_cumulative_ice', 'mm'),\n",
    "        ('avg_pressure_change', 'Pa')\n",
    "    ]\n",
    "\n",
    "def calculate_moving_averages(df, variables, time_periods): # has already been done in previous work at IBM (by Julian Erath) for the dataset # selected_variables = ['max_windgust', 'min_wet_bulb_temp', 'max_snow_density_6', 'max_cumulative_precip', 'max_cumulative_ice', 'max_cumulative_snow', 'avg_windspd','avg_pressure_change','avg_temp','avg_dewpoint','avg_winddir','avg_temp_change'] # selected_time_periods_week = [168] # selected_time_periods_month = [720]\n",
    "    for variable in variables:\n",
    "        for period in time_periods:\n",
    "            ma_column_name = f'MA_{variable}_{period}_hours'\n",
    "            df[ma_column_name] = df[variable].rolling(period, min_periods=1).mean()\n",
    "\n",
    "def plot_weather_parameters(ax, data, parameter, unit):\n",
    "    ax.plot(data.run_datetime, data[parameter])\n",
    "    ax.plot(data.run_datetime, data[f\"MA_{parameter}_week\"])\n",
    "    ax.plot(data.run_datetime, data[f\"MA_{parameter}_month\"])\n",
    "    ax.set_title(f'Bancroft {parameter}')\n",
    "    ax.set_ylabel(unit)\n",
    "    ax.get_xaxis().set_visible(False)\n",
    "\n",
    "def create_subplots(data):\n",
    "    fig, axes = plt.subplots(4, 3, figsize=[20,15])\n",
    "\n",
    "    for i, (parameter, unit) in enumerate(parameters):\n",
    "        plot_weather_parameters(axes[i // 3, i % 3], data, parameter, unit)\n",
    "\n",
    "    plt.suptitle('Bancroft weather parameters time series (Histograms)')\n",
    "    plt.legend(loc=\"best\")\n",
    "    plt.show()\n",
    "    plt.savefig('./GitHub/project/project/output/Bancroft weather parameters time series.png')\n",
    "\n",
    "create_subplots(df)\n"
   ]
  },
  {
   "cell_type": "markdown",
   "metadata": {},
   "source": [
    "In the visualization, the years are easy to recognize in the most plots. That shows that the data is changing a lot throughout the year and is deeply influenced by the seasons. The temperature rises and falls each year which leads to a sinusoidal structure. The wind measurements are relativly stable throughout the year. The measurements of snow and ice clearly show that these weather evnts occurs in only some month of the year."
   ]
  },
  {
   "cell_type": "markdown",
   "metadata": {},
   "source": [
    "In the next visualization, the corresponding historams are shown."
   ]
  },
  {
   "cell_type": "code",
   "execution_count": null,
   "metadata": {},
   "outputs": [],
   "source": [
    "def plot_histogram(data, parameter, unit, ax):\n",
    "    sns.histplot(data[parameter], bins=30, kde=True, ax=ax, color='blue')\n",
    "    ax.set_title(f'Histogram for {parameter}')\n",
    "    ax.set_xlim(ax.get_xlim())  # Adjust x-axis limits to fill the entire range\n",
    "    ax.set_ylabel('Frequency')\n",
    "    ax.set_xlabel(unit)\n",
    "\n",
    "# Set up the subplots with shared y-axis\n",
    "fig, axes = plt.subplots(nrows=4, ncols=3, figsize=[20,15])\n",
    "\n",
    "# Plot histograms for all parameters\n",
    "for i, (parameter, unit) in enumerate(parameters):\n",
    "    row, col = divmod(i, 3)\n",
    "    plot_histogram(df, parameter, unit, axes[row, col])\n",
    "\n",
    "# Manually set bottom margin to make x-axis visible\n",
    "plt.subplots_adjust(bottom=-0.1)\n",
    "\n",
    "# Show the plot\n",
    "plt.show()\n",
    "plt.savefig('./GitHub/project/project/output/Bancroft weather parameters histograms.png')"
   ]
  },
  {
   "cell_type": "markdown",
   "metadata": {},
   "source": [
    "The visualization shows that an average temperature of ca. 272 or 294 degree Kelvin occurs very often. Mostly there was a windspeed of slightly over 2 m/s, the windgust was often between 10 and 15 m/s. The winddirection was often at about 220 degrees. Most of the time there was no snow or ice."
   ]
  },
  {
   "cell_type": "markdown",
   "metadata": {},
   "source": [
    "The frequencies of variable values are presented in the following scatterplot. This allows for a quick identification of which variables occur particularly rarely or frequently in a given expression."
   ]
  },
  {
   "cell_type": "code",
   "execution_count": null,
   "metadata": {},
   "outputs": [],
   "source": [
    "def plot_dotplot(data, parameter, unit, ax):\n",
    "    sns.stripplot(x=data[parameter], ax=ax, color='blue', size=8, jitter=True)\n",
    "    ax.set_title(f'Dot Plot for {parameter}')\n",
    "    ax.set_ylabel('Frequency')\n",
    "    ax.set_xlabel(unit)\n",
    "\n",
    "# Set up the subplots with shared y-axis\n",
    "fig, axes = plt.subplots(nrows=4, ncols=3, figsize=[20,15])\n",
    "\n",
    "# Plot dot plots for all parameters\n",
    "for i, (parameter, unit) in enumerate(parameters):\n",
    "    row, col = divmod(i, 3)\n",
    "    plot_dotplot(df, parameter, unit, axes[row, col])\n",
    "\n",
    "# Manually set bottom margin to make x-axis visible\n",
    "plt.subplots_adjust(bottom=-0.1)\n",
    "\n",
    "# Show the plot\n",
    "plt.show()\n",
    "plt.savefig('./GitHub/project/project/output/Bancroft weather parameters dot plots.png')\n"
   ]
  },
  {
   "cell_type": "code",
   "execution_count": null,
   "metadata": {},
   "outputs": [],
   "source": [
    "# Set up the subplots with shared x-axis\n",
    "fig, axes = plt.subplots(nrows=4, ncols=3, figsize=(20, 15), constrained_layout=True)\n",
    "\n",
    "# List of relevant weather parameters\n",
    "relevant_parameters = ['avg_temp', 'min_wet_bulb_temp', 'avg_dewpoint', 'avg_temp_change', 'avg_windspd', 'max_windgust',\n",
    "                       'avg_winddir', 'max_cumulative_precip', 'max_snow_density_6', 'max_cumulative_snow',\n",
    "                       'max_cumulative_ice', 'avg_pressure_change']\n",
    "\n",
    "sns.set(style=\"darkgrid\")\n",
    "\n",
    "# Loop through each parameter and create a boxplot\n",
    "for i, parameter in enumerate(relevant_parameters):\n",
    "    sns.boxplot(x=df[parameter], ax=axes.flatten()[i], color='blue')\n",
    "    axes.flatten()[i].set_title(f'Box Plot for {parameter}')\n",
    "    axes.flatten()[i].set_ylabel(parameter)\n",
    "\n",
    "# Adjust layout\n",
    "plt.tight_layout()\n",
    "plt.show()\n",
    "plt.savefig('./GitHub/project/project/output/Bancroft weather parameters box plots.png')"
   ]
  },
  {
   "cell_type": "markdown",
   "metadata": {},
   "source": [
    "In the next step the variables are  visualized together with their corresponding  weather events."
   ]
  },
  {
   "cell_type": "code",
   "execution_count": null,
   "metadata": {},
   "outputs": [],
   "source": [
    "def plot_wep_features_distogram(df, label_col):\n",
    "\n",
    "    f, axes = plt.subplots(4, 3, constrained_layout = True, figsize=[20,15])\n",
    "    sns.set(style=\"darkgrid\")\n",
    "    for i in df[label_col].unique():\n",
    "        df_cluster_distogram = df.loc[df[label_col] == i]\n",
    "        axes = axes.ravel()\n",
    "        num_label = df_cluster_distogram[label_col].value_counts()[i]\n",
    "        for j, feature in enumerate(relevant_parameters):\n",
    "            sns.distplot(df_cluster_distogram[feature], label=f'{i}: {num_label}', ax=axes[j])\n",
    "    axes[0].set(title=\"Avg temperature in Kelvin\", xlim=(230, 310), xlabel=\"\")\n",
    "    axes[0].legend(loc=\"best\")\n",
    "    axes[1].set(title=\"Min wet bulb temperature in Kelvin\", xlim=(230, 310), xlabel=\"\")\n",
    "    axes[2].set(title=\"Avg dewpoint in Kelvin\", xlim=(230, 310), xlabel=\"\")\n",
    "    axes[3].set(title=\"Avg temperature change in Kelvin\", xlim=(-1, 1), xlabel=\"\")\n",
    "    axes[4].set(title=\"Avg wind speed in m/s\", xlim=(0, 10), xlabel=\"\")\n",
    "    axes[5].set(title=\"Max windgust in m/s\", xlim=(0, 30), xlabel=\"\")\n",
    "    axes[6].set(title=\"Avg winddirection in degrees\", xlim=(0, 360), xlabel=\"\")\n",
    "    axes[7].set(title=\"Max cumulative precipitation in mm\", xlim=(0, 100), ylim=(0, 0.1), xlabel=\"\")\n",
    "    axes[8].set(title=\"Max snow density (when snow exceeds 6.35mm in kg/m^3)\", xlim=(0, 800), ylim=(0, 0.01), xlabel=\"\")\n",
    "    axes[9].set(title=\"Max cumulative snow accretion in mm\", xlim=(0, 1000), ylim=(0, 0.009), xlabel=\"\")\n",
    "    axes[10].set(title=\"Max cumulative ice accretion in mm\", xlim=(0, 10), ylim=(0, 0.8), xlabel=\"\")\n",
    "    axes[11].set(title=\"Avg pressure change in Pa\",  xlim=(-200, 200), xlabel=\"\")  \n",
    "    return f\n",
    "\n",
    "data = df.dropna(subset=['wep'], how='any').sort_values('wep')\n",
    "plot_wep_features_distogram(data, 'wep').savefig('./GitHub/project/project/output/Bancroft_wep_parameter_distograms.png')"
   ]
  },
  {
   "cell_type": "markdown",
   "metadata": {},
   "source": [
    "The plots show that some of the variables occuring more often at special weather events. For example on days with high temperatures there is often blue sky. At low temperatures, snowstorms with high percipitiation seem to occur. However, it is important to note that, at this point no statements about causality can be made. The graphic only reveals correlations."
   ]
  },
  {
   "cell_type": "markdown",
   "metadata": {},
   "source": [
    "Here, the frequencies of various variables are once again depicted. The points are colored according to weather events. This allows for conclusions to be drawn regarding the occurrence of specific aspects during different weather events."
   ]
  },
  {
   "cell_type": "code",
   "execution_count": null,
   "metadata": {},
   "outputs": [],
   "source": [
    "def plot_wep_features_dotplot(df, label_col):\n",
    "    f, axes = plt.subplots(4, 3, constrained_layout=True, figsize=[20,15])\n",
    "    sns.set(style=\"darkgrid\")\n",
    "\n",
    "    for i in df[label_col].unique():\n",
    "        df_cluster_dotplot = df.loc[df[label_col] == i]\n",
    "        axes = axes.ravel()\n",
    "        num_label = df_cluster_dotplot[label_col].value_counts()[i]\n",
    "        for j, feature in enumerate(relevant_parameters):\n",
    "            sns.stripplot(x=df_cluster_dotplot[feature], ax=axes[j])            \n",
    "    axes[0].set(title=\"Avg temperature in Kelvin\", xlim=(230, 310), xlabel=\"\")\n",
    "    axes[0].legend(loc=\"best\")\n",
    "    axes[1].set(title=\"Min wet bulb temperature in Kelvin\", xlim=(230, 310), xlabel=\"\")\n",
    "    axes[2].set(title=\"Avg dewpoint in Kelvin\", xlim=(230, 310), xlabel=\"\")\n",
    "    axes[3].set(title=\"Avg temperature change in Kelvin\", xlim=(-1, 1), xlabel=\"\")\n",
    "    axes[4].set(title=\"Avg wind speed in m/s\", xlim=(0, 10), xlabel=\"\")\n",
    "    axes[5].set(title=\"Max windgust in m/s\", xlim=(0, 30), xlabel=\"\")\n",
    "    axes[6].set(title=\"Avg winddirection in degrees\", xlim=(0, 360), xlabel=\"\")\n",
    "    axes[7].set(title=\"Max cumulative precipitation in mm\", xlim=(0, 100), ylim=(0, 0.1), xlabel=\"\")\n",
    "    axes[8].set(title=\"Max snow density (when snow exceeds 6.35mm in kg/m^3)\", xlim=(0, 800), ylim=(0, 0.01), xlabel=\"\")\n",
    "    axes[9].set(title=\"Max cumulative snow accretion in mm\", xlim=(0, 1000), ylim=(0, 0.009), xlabel=\"\")\n",
    "    axes[10].set(title=\"Max cumulative ice accretion in mm\", xlim=(0, 10), ylim=(0, 0.8), xlabel=\"\")\n",
    "    axes[11].set(title=\"Avg pressure change in Pa\",  xlim=(-200, 200), xlabel=\"\")  \n",
    "\n",
    "    return f\n",
    "\n",
    "data = df.dropna(subset=['wep'], how='any').sort_values('wep')\n",
    "plot_wep_features_dotplot(data, 'wep').savefig('./GitHub/project/project/output/Bancroft_wep_parameter_dotplots.png')\n"
   ]
  },
  {
   "cell_type": "code",
   "execution_count": null,
   "metadata": {},
   "outputs": [],
   "source": [
    "def plot_wep_features_boxplot(df, label_col):\n",
    "    f, axes = plt.subplots(4, 3, constrained_layout=True, figsize=[20,15])\n",
    "    sns.set(style=\"darkgrid\")\n",
    "\n",
    "    for j, feature in enumerate(relevant_parameters):\n",
    "        # Create a new set of axes for each subplot\n",
    "        ax = axes.flatten()[j]\n",
    "        sns.boxplot(x=df[label_col], y=df[feature], ax=ax)\n",
    "\n",
    "        ax.set_title(f'Box Plot for {feature}')\n",
    "        ax.set_ylabel(feature)\n",
    "        ax.set_xlabel('')\n",
    "\n",
    "        # Remove 'wep' labels from the x-axis\n",
    "        ax.set_xticks([])\n",
    "        ax.set_xticklabels([])\n",
    "\n",
    "    # Adjust layout\n",
    "    plt.tight_layout()\n",
    "\n",
    "    return f\n",
    "\n",
    "data = df.dropna(subset=['wep'], how='any').sort_values('wep')\n",
    "plot_wep_features_boxplot(data, 'wep').savefig('./GitHub/project/project/output/Bancroft_wep_parameter_boxplots.png')\n"
   ]
  },
  {
   "cell_type": "markdown",
   "metadata": {},
   "source": [
    "In the analysis of the present assignment, temperature and wind are of particular importance. These variables will be examined more closely through line charts in a time series analysis.\n",
    "\n"
   ]
  },
  {
   "cell_type": "code",
   "execution_count": null,
   "metadata": {},
   "outputs": [],
   "source": [
    "# Convert the 'run_datetime' column to a datetime object\n",
    "df['run_datetime'] = pd.to_datetime(df['run_datetime'])\n",
    "\n",
    "# Aggregate the average wind speed and temperature for each month across all years\n",
    "avg_by_month = df.groupby(df['run_datetime'].dt.to_period('M')).agg({\n",
    "    'avg_windspd': 'mean',\n",
    "    'avg_temp': 'mean'\n",
    "}).reset_index()\n",
    "\n",
    "# Ensure the presence of a date column\n",
    "avg_by_month['Month'] = avg_by_month['run_datetime'].dt.strftime('%b')\n",
    "\n",
    "# Adjust the order of the months\n",
    "months_order = ['Jan', 'Feb', 'Mar', 'Apr', 'May', 'Jun', 'Jul', 'Aug', 'Sep', 'Oct', 'Nov', 'Dec']\n",
    "avg_by_month['Month'] = pd.Categorical(avg_by_month['Month'], categories=months_order, ordered=True)\n",
    "avg_by_month = avg_by_month.sort_values('Month')\n",
    "\n",
    "# Plot as a Line Chart\n",
    "fig, ax1 = plt.subplots(figsize=(15, 8))\n",
    "\n",
    "# Line for wind speed on the left y-axis\n",
    "color = 'tab:blue'\n",
    "ax1.set_xlabel('Month')\n",
    "ax1.set_ylabel('Average windspeed  (m/s)', color=color)\n",
    "ax1 = sns.lineplot(x='Month', y='avg_windspd', data=avg_by_month, sort=False, label='wind speed', color=color)\n",
    "ax1.tick_params(axis='y', labelcolor=color)\n",
    "\n",
    "# Second y-axis for temperature\n",
    "ax2 = ax1.twinx()\n",
    "color = 'tab:red'\n",
    "ax2.set_ylabel('Average temperature', color=color)\n",
    "ax2 = sns.lineplot(x='Month', y='avg_temp', data=avg_by_month, sort=False, label='temperature', color=color)\n",
    "ax2.tick_params(axis='y', labelcolor=color)\n",
    "\n",
    "plt.title('Average wind speed and temperature per month across all years.')\n",
    "plt.show()\n"
   ]
  },
  {
   "cell_type": "markdown",
   "metadata": {},
   "source": [
    "### 2.1.9 Relationships"
   ]
  },
  {
   "cell_type": "code",
   "execution_count": null,
   "metadata": {},
   "outputs": [],
   "source": [
    "# Display a scatter plot in a diagram with subplots for all parameter pairs\n",
    "fig, axes = plt.subplots(len(relevant_parameters), len(relevant_parameters), figsize=(50, 50), gridspec_kw={'hspace': 0.8, 'wspace': 0.4})\n",
    "\n",
    "# Function for calculating the correlation coefficient and displaying the scatterplot\n",
    "def plot_scatter_and_correlation(ax, x, y, data):\n",
    "    sns.scatterplot(x=x, y=y, data=data, ax=ax)\n",
    "    correlation_coefficient = data[x].corr(data[y])\n",
    "    ax.set_title(f'Scatterplot of {x} and {y}', fontsize=16)\n",
    "    ax.set_xlabel(x, fontsize=14)\n",
    "    ax.set_ylabel(y, fontsize=14)\n",
    "    ax.text(0.5, -0.27, f'Correlation Coefficient: {correlation_coefficient:.2f}', transform=ax.transAxes, ha='center', fontsize=12)\n",
    "\n",
    "# Loop over all parameters \n",
    "for i, feature_x in enumerate(relevant_parameters):\n",
    "    for j, feature_y in enumerate(relevant_parameters):\n",
    "        if i != j:  # Damit die Diagonale übersprungen wird (x gegen x)\n",
    "            plot_scatter_and_correlation(axes[i, j], feature_x, feature_y, df)\n",
    "\n",
    "plt.tight_layout()\n",
    "plt.show()"
   ]
  },
  {
   "cell_type": "markdown",
   "metadata": {},
   "source": [
    "This analysis should also be conducted seperately for all different weps."
   ]
  },
  {
   "cell_type": "code",
   "execution_count": null,
   "metadata": {},
   "outputs": [],
   "source": [
    "# Translate wind directions into cardinal directions\n",
    "def wind_direction_label(degrees):\n",
    "    if 22.5 < degrees <= 67.5:\n",
    "        return 'Northeast'\n",
    "    elif 67.5 < degrees <= 112.5:\n",
    "        return 'East'\n",
    "    elif 112.5 < degrees <= 157.5:\n",
    "        return 'Southeast'\n",
    "    elif 157.5 < degrees <= 202.5:\n",
    "        return 'South'\n",
    "    elif 202.5 < degrees <= 247.5:\n",
    "        return 'Southwest'\n",
    "    elif 247.5 < degrees <= 292.5:\n",
    "        return 'West'\n",
    "    elif 292.5 < degrees <= 337.5:\n",
    "        return 'Northwest'\n",
    "    else:\n",
    "        return 'North'\n",
    "\n",
    "# Apply the wind_direction_label function to create a new column 'wind_direction_label'\n",
    "df['wind_direction_label'] = df['avg_winddir'].apply(wind_direction_label)\n",
    "df['avg_temp_celsius'] = df['avg_temp'] - 273.15\n",
    "\n",
    "# Calculate the average temperature for each wind direction\n",
    "avg_temp_by_direction = df.groupby('wind_direction_label')['avg_temp_celsius'].mean().reset_index()\n",
    "\n",
    "# Order cardinal directions clockwise\n",
    "directions_ordered = ['North', 'Northeast', 'East', 'Southeast', 'South', 'Southwest', 'West', 'Northwest']\n",
    "avg_temp_by_direction['wind_direction_label'] = pd.Categorical(avg_temp_by_direction['wind_direction_label'], categories=directions_ordered, ordered=True)\n",
    "avg_temp_by_direction = avg_temp_by_direction.sort_values('wind_direction_label')\n",
    "\n",
    "# Color scale for temperature\n",
    "color_scale = plt.cm.get_cmap('coolwarm')\n",
    "\n",
    "# Create the bar chart\n",
    "fig, ax = plt.subplots(figsize=(8, 6))\n",
    "\n",
    "# Loop through the data and create bars with corresponding color\n",
    "for i, row in avg_temp_by_direction.iterrows():\n",
    "    color = color_scale(row['avg_temp_celsius'] / avg_temp_by_direction['avg_temp_celsius'].max())\n",
    "    wind_direction = row['wind_direction_label']\n",
    "    average_wind_speed = df[df['wind_direction_label'] == wind_direction]['avg_windspd'].mean()\n",
    "    ax.bar(wind_direction, average_wind_speed, color=color, edgecolor='black')\n",
    "\n",
    "# Chart settings\n",
    "ax.set_xlabel('Wind Direction')\n",
    "ax.set_ylabel('Wind Speed (m/s)')\n",
    "ax.set_title('Wind Speeds and Average Temperatures by Wind Direction')\n",
    "\n",
    "# Create a separate Axes for the colorbar\n",
    "cax = fig.add_axes([0.95, 0.1, 0.04, 0.79])  \n",
    "\n",
    "# Add color legend\n",
    "temperature_min = avg_temp_by_direction['avg_temp_celsius'].min()\n",
    "temperature_max = avg_temp_by_direction['avg_temp_celsius'].max()\n",
    "sm = plt.cm.ScalarMappable(cmap=color_scale, norm=plt.Normalize(vmin=temperature_min, vmax=temperature_max))\n",
    "sm.set_array([])  # empty data for the color legend\n",
    "cbar = plt.colorbar(sm, cax=cax, orientation='vertical')\n",
    "cbar.set_label('Average Temperature (°C)')\n",
    "\n",
    "# Show the chart\n",
    "plt.show()"
   ]
  },
  {
   "cell_type": "markdown",
   "metadata": {},
   "source": [
    "## 2.2 Description of how the Data was collected\n",
    "**Collection Method:**\n",
    "\n",
    "1. **Observational Data Assimilation:** The ERA5 dataset is generated through a process called reanalysis. This involves assimilating vast amounts of observational data from satellites, weather stations, and other sources into a numerical weather prediction model. This assimilation process helps create a consistent and comprehensive representation of the atmosphere over time.\n",
    "\n",
    "2. **Numerical Weather Prediction Model:** ECMWF uses advanced numerical weather prediction models to simulate the Earth's atmosphere. These models take into account the laws of physics governing the atmosphere and use initial conditions based on observational data.\n",
    "\n",
    "3. **Temporal Coverage:** The ERA5 dataset spans multiple decades, with ongoing updates. It covers from 1979 to near-real-time, providing a continuous record of atmospheric conditions. In this project the scope of the data is reduced to the dates of 2015 to 2022 for reasons of resources and project limitations.\n",
    "\n",
    "4. **Spatial Resolution:** The dataset has a high spatial resolution, offering detailed information on a global scale, with grid points approximately 31 kilometers apart.\n",
    "\n",
    "**Purpose:** The primary purpose of generating the ERA5 dataset is to provide a comprehensive and accurate representation of past weather conditions. It serves various scientific and operational applications, including climate monitoring, research, and supporting weather forecasting.\n",
    "\n",
    "**Quality Assurance:** ECMWF is renowned for its commitment to data quality. The assimilation process involves rigorous validation against a wide range of observational data to ensure the accuracy and reliability of the reanalysis output.\n",
    "\n",
    "**Accessibility:** The ECMWF makes ERA5 data available to the public and the scientific community, fostering research and applications in meteorology, climate science, and related fields.\n",
    "\n",
    "Source: https://confluence.ecmwf.int/display/CKB/ERA5%3A+data+documentation\n",
    "\n",
    "### 2.3 Data Corrections\n"
   ]
  },
  {
   "cell_type": "code",
   "execution_count": null,
   "metadata": {},
   "outputs": [],
   "source": [
    "df['run_datetime'] = pd.to_datetime(df['run_datetime'])\n",
    "df['valid_datetime'] = pd.to_datetime(df['valid_datetime'])"
   ]
  },
  {
   "cell_type": "markdown",
   "metadata": {},
   "source": [
    "### 2.4 Data Splitting"
   ]
  },
  {
   "cell_type": "markdown",
   "metadata": {},
   "source": [
    "## 3. Analysis Approach"
   ]
  },
  {
   "cell_type": "markdown",
   "metadata": {},
   "source": [
    "### 3.1. Description of response variables (Temperature, Weather Event )"
   ]
  },
  {
   "cell_type": "markdown",
   "metadata": {},
   "source": [
    "#### 3.1.1 Response Variable: Temperature\n",
    "The variable temperature is a numerical continous variable, which is measured in units of Kelvin.\n",
    "\n",
    "Temperature is a measure of the thermal energy in a substance or system. It is a fundamental physical quantity. Temperature is a measure of the average kinetic energy of the particles in a substance or system. As the temperature of a substance increases, the particles in the substance gain kinetic energy and move faster.\n",
    "In the dataframe there are different kinds of temperature given."
   ]
  },
  {
   "cell_type": "code",
   "execution_count": null,
   "metadata": {},
   "outputs": [],
   "source": [
    "temp_cols = df.columns[df.columns.str.contains('temp')]\n",
    "print(temp_cols)"
   ]
  },
  {
   "cell_type": "markdown",
   "metadata": {},
   "source": [
    "There are three average temperatures and the corresponding minimal and maximal temperatures given. Furthermore there is an average, minimal and maximal wet bubl temperature given.\n",
    "Wet bulb temperature is the lowest temperature to which air can be cooled by the evaporation of water into the air at a constant pressure. It is therefore measured by wrapping a wet wick around the bulb of a thermometer and the measured temperature corresponds to the wet bulb temperature(https://www.sciencedirect.com/topics/engineering/wet-bulb-temperature).\n",
    "\n",
    "\n",
    "For predictions only the 'avg_temp' (Average Temperature) will be considered."
   ]
  },
  {
   "cell_type": "markdown",
   "metadata": {},
   "source": [
    "#### 3.1.2 response variable: weather event\n",
    "\n",
    "The weather event is a categorical nominal variable with the following values:\n",
    "\n",
    "**Blue Sky Day:** A day with clear and cloudless skies. There are no significant weather phenomena such as rain, snow, or storms.[^6]\n",
    "\n",
    "**Mild Snowfall:** A light snowfall, where small amounts of snow fall, but not enough to be considered moderate or heavy snowfall.\n",
    "\n",
    "**Moderate Snowfall:** A moderate snowfall, where larger amounts of snow fall compared to mild snowfall but not as much as heavy snowfall.\n",
    "\n",
    "**Moderate Rain:** A moderate rainfall, where a moderate amount of precipitation occurs in the form of rain.\n",
    "\n",
    "**Heavy Snowfall with Accumulated Snow:** Intense snowfall accompanied by a significant accumulation of snow on the ground.\n",
    "\n",
    "**Continuous Freezing Rain:** Continuous freezing rain, where rain falls on frozen surfaces and immediately turns into ice.\n",
    "\n",
    "**Storm with Freezing Rain / Heavy Snow- and Icestorm:** A storm with freezing rain or heavy snowfall, accompanied by the formation of ice. This can lead to hazardous conditions.\n",
    "\n",
    "**Snowstorm with High Precipitation:** A snowstorm with intense snowfall and a high amount of precipitation in the form of snow.\n",
    "\n",
    "[^6]: It is important to note that the designation \"blue sky\" encapsulates a range of commonplace weather situations. Consequently, even on a day characterized as a \"blue sky\" day there may be a degree of cloudiness. \n",
    "However, when conducting weather analyses and predictions, our primary focus lies on the examination and anticipation of extreme weather conditions. Therefore it is not neccessary to differentiate between degrees of cloudyness."
   ]
  },
  {
   "cell_type": "markdown",
   "metadata": {},
   "source": [
    "### 3.2 Visualization and Summary Statistics of Response Variables"
   ]
  },
  {
   "cell_type": "markdown",
   "metadata": {},
   "source": [
    "#### 3.2.1 Temperature"
   ]
  },
  {
   "cell_type": "code",
   "execution_count": null,
   "metadata": {},
   "outputs": [],
   "source": [
    "import altair as alt\n",
    "\n",
    "df['run_datetime'] = pd.to_datetime(df['run_datetime'])\n",
    "# group by day and use average temperature\n",
    "daily_avg_temp = df.groupby(df['run_datetime'].dt.date)['avg_temp'].mean().reset_index()\n",
    "daily_avg_temp['run_datetime'] = pd.to_datetime(daily_avg_temp['run_datetime'])\n",
    "\n",
    "alt.Chart(daily_avg_temp).mark_line().encode(\n",
    "    x=alt.X('run_datetime:T', title='Date'),\n",
    "    y=alt.Y('avg_temp:Q', title='Average Temperature', scale=alt.Scale(domain=[200, 350])),\n",
    ").properties(\n",
    "    title='Daily Average Temperature',\n",
    "    width=1200,\n",
    "    height=400\n",
    ").interactive()"
   ]
  },
  {
   "cell_type": "code",
   "execution_count": null,
   "metadata": {},
   "outputs": [],
   "source": [
    "#convert to datetime\n",
    "df['run_datetime'] = pd.to_datetime(df['run_datetime'])\n",
    "\n",
    "# write month and year to column\n",
    "df['year'] = df['run_datetime'].dt.year\n",
    "df['month'] = df['run_datetime'].dt.month\n",
    "\n",
    "# Extract the monthly average temperature\n",
    "monthly_avg_temp = df.groupby([df['run_datetime'].dt.strftime('%Y-%m'),\"year\",\"month\"])['avg_temp'].mean().reset_index()\n",
    "\n",
    "# Print the result\n",
    "monthly_avg_temp"
   ]
  },
  {
   "cell_type": "code",
   "execution_count": null,
   "metadata": {},
   "outputs": [],
   "source": [
    "monthly_avg_temp[\"avg_temp\"] -= monthly_avg_temp[\"avg_temp\"].mean()\n",
    "df_temp = monthly_avg_temp.reset_index()\n",
    "display(df_temp)"
   ]
  },
  {
   "cell_type": "code",
   "execution_count": null,
   "metadata": {},
   "outputs": [],
   "source": [
    "df_temp = df_temp.drop(df_temp[df_temp['year'] == 2015].index)"
   ]
  },
  {
   "cell_type": "code",
   "execution_count": null,
   "metadata": {},
   "outputs": [],
   "source": [
    "import numpy as np\n",
    "\n",
    "fig, ax1 = plt.subplots(figsize=(14, 14), subplot_kw=dict(projection='polar'))\n",
    "\n",
    "ax1.yaxis.set_ticklabels([])\n",
    "ax1.xaxis.set_ticklabels([])\n",
    "fig.set_facecolor(\"#323331\")\n",
    "ax1.set_ylim(1, 50)\n",
    "\n",
    "theta = np.linspace(0, 2 * np.pi, 12)\n",
    "\n",
    "ax1.set_title(\"Temperature Change in Bancroft (2016-2022)\", color='white', fontdict={'fontsize': 20})\n",
    "ax1.set_facecolor('#000100')\n",
    "\n",
    "years = df_temp['year'].unique()\n",
    "\n",
    "for year in years:\n",
    "    r = df_temp[df_temp['year'] == year]['avg_temp'] + 30\n",
    "    ax1.plot(theta, r, label=str(year))\n",
    "\n",
    "ax1.legend(title='Years', loc='upper right', bbox_to_anchor=(1.1, 1.1), facecolor='black', edgecolor='white', labelcolor='white')\n",
    "plt.show()\n"
   ]
  },
  {
   "cell_type": "markdown",
   "metadata": {},
   "source": [
    "#### 3.2.2 Weather Events"
   ]
  },
  {
   "cell_type": "code",
   "execution_count": null,
   "metadata": {},
   "outputs": [],
   "source": [
    "df['wep'].value_counts()"
   ]
  },
  {
   "cell_type": "code",
   "execution_count": null,
   "metadata": {},
   "outputs": [],
   "source": [
    "# Wenn 'Blue sky day' in 'wep' vorliegt, dann 'label0' verwenden, sonst 'wep'\n",
    "df['display_label'] = df.apply(lambda row: f\"{row['wep']}: '{row['label0']}'\" if row['wep'] == 'Blue sky day' else row['wep'], axis=1)\n",
    "\n",
    "# Wetterereignisse zählen\n",
    "weather_counts = df['display_label'].value_counts()\n",
    "\n",
    "# Gesamtanzahl aller Samples\n",
    "total_samples = len(df)\n",
    "\n",
    "# Plot erstellen\n",
    "plt.figure(figsize=(16, 8))\n",
    "\n",
    "# Pie-Chart für alle Wetterereignisse\n",
    "plt.subplot(1, 2, 1)\n",
    "plt.pie(weather_counts, labels=weather_counts.index, autopct=lambda p: f'{p:.1f}%\\n({int(p/100*total_samples)})', startangle=90)\n",
    "plt.title(f'Verteilung aller Wetterereignisse\\nGesamtzahl der Observationen: {total_samples}')\n",
    "\n",
    "# Vergrößerter Ausschnitt für 'wep' != 'Blue sky day'\n",
    "plt.subplot(1, 2, 2)\n",
    "not_blue_sky_day_counts = df[df['wep'] != 'Blue sky day']['wep'].value_counts()\n",
    "plt.pie(not_blue_sky_day_counts, labels=not_blue_sky_day_counts.index, autopct=lambda p: f'{p:.1f}%\\n({int(p/100*total_samples)})', startangle=90)\n",
    "plt.title(f'Verteilung von Extremwetterereignissen\\nGesamtzahl der Observationen: {total_samples}')\n",
    "\n",
    "plt.show()\n"
   ]
  },
  {
   "cell_type": "markdown",
   "metadata": {},
   "source": [
    "show weather events as bar chart:"
   ]
  },
  {
   "cell_type": "code",
   "execution_count": null,
   "metadata": {},
   "outputs": [],
   "source": [
    "\n",
    "weather_counts = df['wep'].value_counts()\n",
    "\n",
    "plt.figure(figsize=(10, 6))\n",
    "weather_counts.plot(kind='bar', color='skyblue')\n",
    "plt.title('Frequency of Weather Events')\n",
    "plt.xlabel('Weather Event')\n",
    "plt.ylabel('Frequency')\n",
    "plt.xticks(rotation=45, ha='right')  # Adjust rotation for better visibility\n",
    "plt.show()\n"
   ]
  },
  {
   "cell_type": "markdown",
   "metadata": {},
   "source": [
    "### 3.3. List of variables that will be considered as predictors"
   ]
  },
  {
   "cell_type": "markdown",
   "metadata": {},
   "source": [
    "1. **Time**\n",
    "2. **Wind:**\n",
    "   - Speed\n",
    "   - Gust\n",
    "   - Direction\n",
    "3. **Humidity**\n",
    "4. **Pressure**\n",
    "5. **Temperature**\t\n",
    "6. **Cumulative Precipitation**\n",
    "7. **Snow Density**\n",
    "8. **Cumulative Snow**\n",
    "9. **Cumulative Ice**\n",
    "\n",
    "By exploring the relationships between regional precipitation and these predictor variables, we can gain insights into the complex interactions that drive local weather patterns. For instance, we might investigate how temperature and wind variations correlate, or how certain parameter patterns influence the weather events. The goal is to identify key meteorological factors that contribute to each weather event and identify correlations and causations in the data.\n",
    "\n",
    "\n",
    "\n",
    "\n"
   ]
  },
  {
   "cell_type": "markdown",
   "metadata": {},
   "source": [
    "### 3.4. Model Types (Which Models will be used)"
   ]
  },
  {
   "cell_type": "markdown",
   "metadata": {},
   "source": [
    "#### 3.4.1 Advantages and disadvantages of different regression and classification models for weather analysis\n",
    "\n",
    "In general, different types of algorithms have varying use cases, thus necessitating consideration of the application scenarios.\n",
    "\n",
    "In weather data analysis, the choice between classification and regression depends on the nature of the target variable. Classification is better suited for predicting categorical outcomes, such as weather events (\"rainy,\" \"sunny,\" \"stormy\"). The distinct boundaries between these events and the intuitive interpretation of classification results make it particularly suitable for this purpose. Classification is also adept at handling multiple classes and imbalanced data, common characteristics in weather event datasets. The actionable insights provided by classification outcomes are valuable in decision-making scenarios.\n",
    "\n",
    "On the other hand, regression is more appropriate for predicting continuous variables, such as temperature. Temperature changes often occur gradually and exhibit a numerical gradient, making regression well-equipped to capture these subtle variations. Regression models are effective in scenarios where precise numerical predictions are essential, providing a quantitative representation of temperature values. Additionally, regression models, particularly those designed for time-series analysis, can account for temporal patterns commonly found in temperature data.\n",
    "\n",
    "In summary, while classification excels in providing clear categorizations of weather events, regression is better suited for the nuanced prediction of continuous variables like temperature, offering precise numerical estimations and accommodating subtle variations over time or space.\n",
    "\n",
    "#### 3.4.2 Advantages and disadvantages of different regression and classification algorithms for weather analysis\n",
    "\n",
    "##### 3.4.3.1 Regression Classification Algorithms for Temperature and Wather event Prediction:\n",
    "\n",
    "1. **Linear Regression:**\n",
    "  Linear Regression Models describe a linear relationship between a dependent and on or more independent variables. The least squared method is used to fit a straight line to represent the response variable [^7]. \n",
    "  Since temperature cannot be represented linearly, linear regression is not suitable here.\n",
    "\n",
    "2. **Logistic Regression:**\n",
    "  Logistic Regression models are used for classification. They offer simplicity and interpretability, which make them ideal for straightforward binary classification tasks. They sperform well in scenarios with smaller datasets and maintain efficiency while being less prone to overfitting. Their effectiveness diminishes when faced with complex, non-linear relationships within the data.\n",
    "\n",
    "3. **Decision Trees and Random Forests:**\n",
    "  Decision Trees or Regression Trees and Random Forests as an enhancement can both be used for regression and classification. They can be useful for use-cases with non-linear relationships. They are robust to outliers, but prone to overfitting [^8]. Decision trees are useful for non-linear relationships, with sets of easy definable rules (if a and b happens, but c is not given, d will happen). Decision trees prone to overfitting and are therefore not well-suited for very complex use cases [^9].\n",
    "    Random Forests\n",
    "  Random Forests, a asemble of multiple decision trees are easier to overcome overfitting and parameters can be set easily. Also, the variable importance and accuracy is generated automatically. Random Forests are therfore better suited for modelling high dimensional  data [^10].\n",
    "\n",
    "4. **Gradient Boosting (e.g., XGBoost, LightGBM):**\n",
    "  Gradient Boosting uses an esemble of machine learning models and can reach a high accuracy. An initital Model is fitted and on top of that another model precits the accuracy of  the first model. This process is called boosting and leads to a highly accurate model, which is very robust to outliers. The disadvantages are, that they are computionally expensive and the models need hyperparamter tuning [^11].\n",
    "\n",
    "5. **Support Vector Regression (SVR) / Support Vector Machines (SVM):**  \n",
    "  Support Vector Regression (SVR) and Support Vector Machines (SVM) excel when there is a clear separation between classes, are effective in high-dimensional spaces, and perform well when dimensions outnumber samples while beeing also relatively memory-efficient. Handling large datasets and performing  when faced with noisy data or overlapping target classes are weeknesses of SVMs. Additionally, if the number of features surpasses the number of training data samples, SVM may underperform [^12].\n",
    "\n",
    "7. **K-Nearest Neighbors (KNN):**  \n",
    "  The classification algorithm K-Nearest Neighbors (KNN) is especially known for their easy implementation method and not needing a training period, which makes them a suitable choice for straightforward tasks. Sensitive to noisy data, KNN's performance is impaired by large datasets with high dimensionality [^13].\n",
    "\n",
    "8. **Naive Bayes:**  \n",
    "  Naive Bayes is referred as the most efficient and effective clasification algorithm [^14].\n",
    "   praised for its simplicity and computational efficiency, making it a quick choice for certain applications. It handles high-dimensional data effectively but assumes feature independence, impacting its performance with correlated features.\n",
    "\n",
    "9. **Neural Networks (Deep Learning):**  \n",
    "  Neural Networks, are adept at capturing intricate patterns in data, making them well-suited for complex tasks. They are well suited for handling large and intricate datasets but come with the trade-offs of requiring substantial amounts of data and being computationally expensive. The black-box nature of neural networks can also limit their interpretability."
   ]
  },
  {
   "cell_type": "markdown",
   "metadata": {},
   "source": [
    "\n",
    "[^10]: Ali, Jehad/Rehanullah Khan/Nasir Ahmad/Imran Maqsood (2012): Random forests and decision trees, in: International Journal of computer science issues, Bd. 9, Nr. 5, S. 272–278, [online] http://ijcsi.org/papers/IJCSI-9-5-3-272-278.pdf.\n",
    "[^9]: Hillier, Will (2023): What is a decision tree and how is it used?, CareerFoundry, [online] https://careerfoundry.com/en/blog/data-analytics/what-is-a-decision-tree/#pros-and-cons-of-decision-trees.\n",
    "[^11]: Hoare, Jake (2023): What is gradient boosting? - Gradient boosting explained - displayr, Displayr, [online] https://www.displayr.com/gradient-boosting-the-coolest-kid-on-the-machine-learning-block/.\n",
    "[^12]: K, Dhiraj (2023): Top 4 advantages and disadvantages of Support Vector Machine or SVM, in: Medium, 07.02.2023, [online] https://dhirajkumarblog.medium.com/top-4-advantages-and-disadvantages-of-support-vector-machine-or-svm-a3c06a2b107.\n",
    "[^14]: Naïve bayes variants in classification learning (2010): IEEE Conference Publication | IEEE Xplore, [online] https://ieeexplore.ieee.org/abstract/document/5466902.\n",
    "[^7]: Šilhavý, Radek/Petr Silhavy/Zdenka Prokopová (2017): Analysis and selection of a regression model for the use case points method using a stepwise approach, in: Journal of Systems and Software, Bd. 125, S. 1–14, [online] doi:10.1016/j.jss.2016.11.029.  \n",
    "[^13]: Soni, Anuuz (2021): Advantages and Disadvantages of KNN - Anuuz Soni - Medium, in: Medium, 15.12.2021, [online] https://medium.com/@anuuz.soni/advantages-and-disadvantages-of-knn-ee06599b9336.   \n",
    "[^8] Prasad, Ashwin (2022): Regression Trees | Decision tree for Regression | Machine learning, in: Medium, 05.01.2022, [online] https://medium.com/analytics-vidhya/regression-trees-decision-tree-for-regression-machine-learning-e4d7525d8047.\n",
    "\n",
    "##### 3.4.3.2 Considerations for Weather Data Prediction:\n",
    "\n",
    "In the process of choosing algorithms for prediction tasks, several critical considerations come into play. Feature importance and interpretability are addressed by leveraging insights from Random Forests and Gradient Boosting models, providing a nuanced understanding of the relevance of different features. However, when a more straightforward comprehension of weather patterns is crucial, linear models and decision trees stand out for their interpretability.\n",
    "The temporal nature of weather data, especially in time-series prediction, demands careful consideration. Recognizing and accommodating temporal dependencies are fundamental for achieving accurate weather forecasting.\n",
    "\n",
    "Therefore it can be very useful to train several models and test their performance in order to decide which model fits best. For choosing the models different papers will be considered to get an overview about best pracitices for weather data analysis."
   ]
  },
  {
   "cell_type": "markdown",
   "metadata": {},
   "source": [
    "**Regression Analysis:**\n",
    "\n",
    "- *Temperature Prediction:* \n",
    "Temperature prediction involves exploring the relationships between temperature  and time (daytime, day, season, etc.). The result of this regression analysis is the identification of a trend in the weather data as well the prediction of the temperature for the next x days, weeks, etc. based on the historical weather.\n",
    "\n",
    "- *Temperature and Wind Modeling:* The correlation or causation between the temperature and windspeed, windgust or winddirection will be examined through regression analysis. This involves investigating the impact of independent variables (wind features) on the temperature. The result of this regression analysis is the identification of the correlation or causation between wind features and the temperature based on the historical weather.\n",
    "As an outlook to this analysis it could also be analyzed whether certain winddirections result in a certain type of weather event (classification?).\n",
    "\n",
    "**Classification Analysis:**\n",
    "\n",
    "- *Extreme Weather Events:* Extreme weather events such as stroms or snowfall should be predictet. This involves training a binary classification model to identify patterns indicative of extreme events. The result of this classification analysis is the prediction of extreme weather events based on the current weather data and a model that was trained on historical weather data.\n",
    "\n",
    "- *Weather Event and Pattern Classification:* Prediction of different weather patterns (e.g., clear skies, rain, snow, etc.) based on multivariate weather data. This involves using multiclass classification algorithms. The results of this classification analysis is the predection of certain weather events based on the current weather data and a model that was trained on historical weather data.\n"
   ]
  },
  {
   "cell_type": "markdown",
   "metadata": {},
   "source": [
    "## 4. Data Dictionary\n",
    "\n",
    "In the pursuit of extracting meaningful insights and constructing predictive models from a given dataset, it is imperative to establish a comprehensive understanding of the variables involved. This section delineates the variables within the dataset, providing a structured overview of each variable's key characteristics through a data dictionary. The data dictionary encapsulates essential information for each variable, facilitating a streamlined comprehension of their names, descriptions, roles, types, and formats.\n",
    "\n",
    "While not explicitly used as predictors or responses in modeling, the inclusion of ID columns can offer valuable insights for data exploration and understanding. These columns serve as unique identifiers and are crucial for tracking and referencing specific records within the dataset.\n",
    "\n",
    "The meticulous documentation provided in this variable list serves as a foundation for subsequent analyses, ensuring transparency, reproducibility, and informed decision-making throughout the data exploration and modeling processes.\n",
    "\n",
    "### 4.1 Variable lists and overview"
   ]
  },
  {
   "cell_type": "code",
   "execution_count": null,
   "metadata": {},
   "outputs": [],
   "source": [
    "data = {\n",
    "    'Name': [\n",
    "        'run_datetime',\n",
    "        'wep',\n",
    "        'avg_temp',\n",
    "        'min_wet_bulb_temp',\n",
    "        'avg_dewpoint',\n",
    "        'avg_temp_change',\n",
    "        'avg_windspd',\n",
    "        'max_windgust',\n",
    "        'avg_winddir',\n",
    "        'wind_direction_label',\n",
    "        'max_cumulative_precip',\n",
    "        'max_snow_density_6',\n",
    "        'max_cumulative_snow',\n",
    "        'max_cumulative_ice',\n",
    "        'avg_pressure_change'\n",
    "        ],\n",
    "    'Description': [\n",
    "        'Date and time when the weather observations were recorded.',\n",
    "        'Weather Event Type (WEP) is a categorization of weather conditions based on specific parameters at a given location and time.',\n",
    "        'The average temperature measured at two meters above ground level, considering all sensors, for the entire duration of one hour in the Bancroft region.',\n",
    "        'Minimum wet bulb temperature recorded during the observation period, considering all sensors, for the entire duration of one hour in the Bancroft region.',\n",
    "        'Average dewpoint temperature observed during the recording period, considering all sensors, for the entire duration of one hour in the Bancroft region.',\n",
    "        'Average change in temperature during the observation period, obtained by calculating the difference between this observation and the following.',\n",
    "        'Average wind speed measured during the recording period, considering all sensors, for the entire duration of one hour in the Bancroft region.',\n",
    "        'Maximum wind gust observed during the recording period, considering all sensors, for the entire duration of one hour in the Bancroft region.',\n",
    "        'Average wind direction (in degree) observed during the recording period, considering all sensors, for the entire duration of one hour in the Bancroft region.',\n",
    "        'Wind direction (in cardinal direction) observed during the recording period, obtained by recalculating the avg_winddir parameter.',\n",
    "        'Maximum cumulative precipitation recorded, considering all sensors, for the entire duration of one hour in the Bancroft region.',\n",
    "        'Maximum snow density at a depth of 6 inches, considering all sensors, for the entire duration of one hour in the Bancroft region.',\n",
    "        'Maximum cumulative snow recorded, considering all sensors, for the entire duration of one hour in the Bancroft region.',\n",
    "        'Maximum cumulative ice recorded, considering all sensors, for the entire duration of one hour in the Bancroft region.',\n",
    "        'Average change in atmospheric pressure during the observation period, considering all sensors, for the entire duration of one hour in the Bancroft region.'\n",
    "        ],\n",
    "    'Role': [\n",
    "        'ID / predictor', \n",
    "        'response', \n",
    "        'response / predictor', \n",
    "        'predictor',\n",
    "        'predictor',\n",
    "        'predictor',\n",
    "        'predictor',\n",
    "        'predictor',\n",
    "        'predictor',\n",
    "        'predictor',\n",
    "        'predictor',\n",
    "        'predictor',\n",
    "        'predictor',\n",
    "        'predictor',\n",
    "        'predictor'\n",
    "        ],\n",
    "    'Type': [\n",
    "        'numerical continuous / ID', \n",
    "        'categorical nominal', \n",
    "        'numerical continuous', \n",
    "        'numerical continuous', \n",
    "        'numerical continuous', \n",
    "        'numerical continuous', \n",
    "        'numerical continuous', \n",
    "        'numerical continuous', \n",
    "        'numerical continuous', \n",
    "        'categorical ordinal', \n",
    "        'numerical continuous',\n",
    "        'numerical continuous',\n",
    "        'numerical continuous',\n",
    "        'numerical continuous',\n",
    "        'numerical continuous'\n",
    "        ],\n",
    "    'Format': [\n",
    "        type(df['run_datetime'][0]),\n",
    "        type(df['wep'][0]), \n",
    "        type(df['min_wet_bulb_temp'][0]),\n",
    "        type(df['avg_temp'][0]), \n",
    "        type(df['avg_dewpoint'][0]), \n",
    "        type(df['avg_temp_change'][0]), \n",
    "        type(df['avg_windspd'][0]), \n",
    "        type(df['max_windgust'][0]),\n",
    "        type(df['avg_winddir'][0]), \n",
    "        type(df['wind_direction_label'][0]), \n",
    "        type(df['max_cumulative_precip'][0]), \n",
    "        type(df['max_snow_density_6'][0]),\n",
    "        type(df['max_cumulative_snow'][0]), \n",
    "        type(df['max_cumulative_ice'][0]), \n",
    "        type(df['avg_pressure_change'][0])\n",
    "]\n",
    "}\n",
    "\n",
    "data_dict = pd.DataFrame(data)\n",
    "\n",
    "# Display the data dictionary\n",
    "data_dict"
   ]
  },
  {
   "cell_type": "markdown",
   "metadata": {},
   "source": [
    "-----"
   ]
  },
  {
   "cell_type": "markdown",
   "metadata": {},
   "source": [
    "FURTHER TO DOS:\n",
    "- Der Einfluss der Windrichtung auf verschiedene WEP sollte geprüft werden\n",
    "- Assoziationsanalyse für die Windrichtung ist aufgrund der Kreisgradvariable nicht sinnvoll\n",
    "- Bei Diagrammen Legende für WEP und Parameter hinzufügen"
   ]
  },
  {
   "cell_type": "markdown",
   "metadata": {},
   "source": []
  },
  {
   "cell_type": "markdown",
   "metadata": {},
   "source": [
    "## Model"
   ]
  },
  {
   "cell_type": "markdown",
   "metadata": {},
   "source": [
    "### Select model"
   ]
  },
  {
   "cell_type": "code",
   "execution_count": null,
   "metadata": {},
   "outputs": [],
   "source": []
  },
  {
   "cell_type": "markdown",
   "metadata": {},
   "source": [
    "### Training and validation"
   ]
  },
  {
   "cell_type": "code",
   "execution_count": null,
   "metadata": {},
   "outputs": [],
   "source": []
  },
  {
   "cell_type": "markdown",
   "metadata": {},
   "source": [
    "### Fit model"
   ]
  },
  {
   "cell_type": "code",
   "execution_count": null,
   "metadata": {},
   "outputs": [],
   "source": []
  },
  {
   "cell_type": "markdown",
   "metadata": {},
   "source": [
    "### Evaluation on test set"
   ]
  },
  {
   "cell_type": "code",
   "execution_count": null,
   "metadata": {},
   "outputs": [],
   "source": []
  },
  {
   "cell_type": "markdown",
   "metadata": {},
   "source": [
    "### Save model\n"
   ]
  },
  {
   "cell_type": "markdown",
   "metadata": {},
   "source": [
    "\n",
    "Save your model in the folder `models/`. Use a meaningful name and a timestamp."
   ]
  },
  {
   "cell_type": "code",
   "execution_count": null,
   "metadata": {},
   "outputs": [],
   "source": []
  },
  {
   "cell_type": "markdown",
   "metadata": {},
   "source": [
    "## Conclusions"
   ]
  },
  {
   "cell_type": "markdown",
   "metadata": {},
   "source": []
  }
 ],
 "metadata": {
  "kernelspec": {
   "display_name": "Python 3 (ipykernel)",
   "language": "python",
   "name": "python3"
  },
  "language_info": {
   "codemirror_mode": {
    "name": "ipython",
    "version": 3
   },
   "file_extension": ".py",
   "mimetype": "text/x-python",
   "name": "python",
   "nbconvert_exporter": "python",
   "pygments_lexer": "ipython3",
   "version": "3.12.0"
  },
  "vscode": {
   "interpreter": {
    "hash": "463226f144cc21b006ce6927bfc93dd00694e52c8bc6857abb6e555b983749e9"
   }
  }
 },
 "nbformat": 4,
 "nbformat_minor": 2
}
