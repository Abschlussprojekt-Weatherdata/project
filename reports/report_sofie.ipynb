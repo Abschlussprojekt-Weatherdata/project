{
 "cells": [
  {
   "cell_type": "markdown",
   "metadata": {},
   "source": [
    "<center>\n",
    "    course: <b>Data Analytics with Statistics</b> | lecturer: <b>Prof. Dr. Jan Kirenz</b> | Date: <b>29.12.2023</b>  | Name: <b>Julian Erath, Furkan Saygin, Sofie Pischl</b> | Group: <b> Group B</b> \n",
    "</center>"
   ]
  },
  {
   "cell_type": "markdown",
   "metadata": {},
   "source": [
    "# Final Report\n",
    "# Weather Data Analysis: A Regression and Classification Approach on the ERA5 Dataset\n",
    "---\n",
    "\n",
    "Group name:  Group iBm\n",
    "\n",
    "---"
   ]
  },
  {
   "cell_type": "markdown",
   "metadata": {},
   "source": [
    "## 1. Introduction and data"
   ]
  },
  {
   "cell_type": "markdown",
   "metadata": {},
   "source": [
    "### 1.1 Motivation\n",
    "\n",
    "Weather, a phenomenon as old as Earth itself, has long been a subject of human fascination. The complex interplay of temperature, wind, and precipitation shapes our environment, affects our lives, and challenges our understanding of the natural world [^1]. With the advent of technology and data analysis techniques, a deeper exploration of these complex processes is now possible. [^2].  As discussed in a systematic review titled \"The contribution of weather forecast information to agriculture, water, and energy sectors in East and West Africa,\" accurate weather prediction is crucial for effective agriculture, disaster management, and urban planning, particularly in the context of climate change risks[^3]. The project, titled \"Weather Data Analysis: A Regression and Classification Approach on the ERA5 Dataset\", aims to contribute to this ongoing exploration by examining how different variables interact to create complex weather phenomena.\n",
    "\n",
    "This project leverages the ERA5 (ECMWF Reanalysis version 5) dataset, provided by the European Centre for Medium-Range Weather Forecasts (ECMWF), which is a high-quality global atmospheric reanalysis dataset covering multiple decades [^4]. This data, examined for its comprehensiveness in the \"Evaluation of spatial-temporal variation performance of ERA5 precipitation data in China,\" is a example for researchers seeking to understand weather patterns and atmospheric dynamics[^5].  The analysis will focus on the region of Bancroft in Ontario, Canada for the years 2015 to 2022.  \n",
    "The geographic location of Bancroft can be seen under \"../references/images/complete_map.png\". This decision is rooted in the unique climatic and meteorological characteristics of the region, which offer a distinctive case study for understanding complex weather phenomena. The geographical and climatic characteristics of Bancroft (strongly influenced by the so called 'lake-effect') create an excellent case study for analyzing the relationships among different atmospheric elements, which also leads to interest in that area by IBM and IBM clients [^6]. The Lake Effect is a phenomenon where cold winds moving over warmer lake waters, leads to significant changes in weather patterns nearby[^7]. The work presented is limited to the evaluation of the years 2015 to 2022 in order to include only the current and latest climate developments and to record the current status without falsifying the results due to strongly deviating values from observations further in the past. Focusing on Bancroft enables a targeted application of regression and classification techniques, facilitating a detailed analysis of localized weather patterns and their impacts [^8]. Both regression and classification analyses are utilized to model and predict various weather parameters as well as gain insights on correlations, causations and patterns involving the parameters [^9]."
   ]
  },
  {
   "cell_type": "markdown",
   "metadata": {},
   "source": [
    "[^1]: Liljequist, G.H. / Cehak, K. (1984): Allgemeine Meteorologie. 3. Auflage, Springer-Verlag.  \n",
    "[^2]: Fathi, M. / Haghi Kashani, M. / Jameii, S. M. / Mahdipour, E. (2022): Big Data Analytics in Weather Forecasting: A Systematic Review, in: Archives of Computational Methods in Engineering 29.2 (2022, Springer): 1247–1275  \n",
    "[^3]: [The contribution of weather forecast information to agriculture, water, and energy sectors in East and West Africa](https://www.frontiersin.org/articles/10.3389/fenvs.2022.935696/full)  \n",
    "[^4]: ECMWF (2023a): ERA5: data documentation. URL: https://confluence.ecmwf.int/display/CKB/ERA5%3A+data+documentation  \n",
    "[^5]: [Evaluation of spatial-temporal variation performance of ERA5 precipitation data in China](https://www.nature.com/articles/s41598-021-97432-y)  \n",
    "[^6]: Hjelmfelt, M.R. (1990): Numerical study of the influence of environmental conditions on lake-effect snowstorms over Lake Michigan, in: Monthly Weather Review, 118(1), pp.138-150.  \n",
    "[^7]: [A Hybrid Dataset of Historical Cool-Season Lake Effects From the Eastern Great Lakes of North America](https://www.frontiersin.org/journals/water/articles/10.3389/frwa.2022.788493/\n",
    "full)  \n",
    "[^8]: Ghirardelli, J.E. (2005): An Overview of the Redeveloped Localized Aviation Mos Program (Lamp) For Short-Range Forecasting.     \n",
    "[^9]: de Lima, Glauston, R.T. / Stephan, S. (2013): A new classification approach for detecting severe weather patterns, in: Computers & geosciences 57 (2013): 158-165.  "
   ]
  },
  {
   "cell_type": "markdown",
   "metadata": {},
   "source": [
    "### 1.2 Data"
   ]
  },
  {
   "cell_type": "markdown",
   "metadata": {},
   "source": [
    "### 1.2.1 Data description of sample\n",
    "- **Source:** ERA5 dataset by European Centre for Medium-Range Weather Forecasts (ECMWF); product of atmospheric reanalysis (involves assimilating observational data from various sources into a numerical weather prediction model)  (https://www.ecmwf.int/en/forecasts/datasets/reanalysis-datasets/era5)\n",
    "- **Temporal Coverage:** Multiple decades (2015-2022) at hourly intervals (https://confluence.ecmwf.int/display/CKB/ERA5%3A+data+documentation)\n",
    "- **Spatial Resolution:** Approximately 31 km (https://confluence.ecmwf.int/display/CKB/ERA5%3A+data+documentation)\n",
    "- **Variables:** Includes but not limited to temperature, precipitation, wind speed, atmospheric pressure, etc. The variables are grouped in the average, minimum and maximum of the measured variable for the observed hour. (https://confluence.ecmwf.int/display/CKB/ERA5%3A+data+documentation#ERA5:datadocumentation-Parameterlistings)\n",
    "- **Labels:** The data has been labelled in weather event profiles by meteorologists and data scientists from IBM and The Weather Company.\n",
    "- **Observations:** The ERA5 weather dataset provides comprehensive atmospheric information on a global scale, with each observation (row) in the dataset representing a set of meteorological parameters at a specific location and time. \n",
    "- **Quality:** ERA5 is known for its high quality and precision, making it suitable for detailed analyses and modeling. The high spatial and temporal resolution of the ERA5 dataset enhances its utility for diverse applications, including climate research, environmental monitoring, and weather forecasting [^10].\n",
    "\n",
    "### 1.2.2 Variables\n",
    "Some of the key variables included in the dataset, which are most important for the analysis of this assignment, are[^11]:\n",
    "1. **Temperature (response variable):** ERA5 provides information on air temperature at different levels of the atmosphere. This includes 2-meter temperature, which is often used as a representative of surface temperature. The variable temperature is a numerical continous variable, which is measured in units of Kelvin.\n",
    "2. **Wind:** Wind speed, gust and direction are essential meteorological parameters. ERA5 includes information on both zonal (east-west) and meridional (north-south) components of the wind at different altitudes.\n",
    "3. **Precipitation:** Precipitation data includes rainfall and snowfall. This information is crucial for understanding water cycles and is vital for various applications, including hydrology and agriculture.\n",
    "4. **Pressure:** Atmospheric pressure at different levels is provided in the dataset. Changes in atmospheric pressure are associated with weather patterns and can influence local weather conditions.\n",
    "5. **Snow and ice:** Snow density as well as cumulative snow and ice are included.\n",
    "6. **Weather Events (response variable)** \n",
    "The weather event is a categorical nominal variable with the following values: Blue Sky Day, Mild Snowfall, Moderate Snowfall, Moderate Rain, Heavy Snowfall with Accumulated Snow, Continous Freezing Rain, Storm with Freezing Rain / Heavy Snow- and Icestorm and Snowstorm with High Precipitation.\n",
    "\n",
    "### 1.2.3 Overview of data \n",
    "At first the data is loaded from the .csv file and the head of the data is printed to have a first look at the columns (variables) and rows (observations) of the data. The dataset consists of 65345 observations, 184 columns (including the useful and unique predictor variables and reasonable response variable mentioned in chapter \"1.2 Variables\", identifier variables \"Unnamed: 0\" (this might previously be used as an index and will be dropped for the further analysis becuase of redundancy), run_datetime\tand valid_datetime (which contain the datetime for the observation, which is not only an identifier variable but can also be used in the analysis e.g., time series analysis)).\n",
    "The meticulous documentation provided in this variable list serves as a foundation for subsequent analyses, ensuring transparency, reproducibility, and informed decision-making throughout the data exploration and modeling processes. A detailed data dictionary can be seen in the apendix.\n",
    "\n",
    "In the following, the columns 'run_datetime' and 'valid_datetime' are transformed into datetime format. Subsequently, a new column ('avg_temp_celsius') is computed by subtracting 273.15 from the values in the 'avg_temp' column, converting temperatures from Kelvin to Celsius. Lastly, wind directions in the 'avg_winddir' column are categorized into cardinal directions using a function, and the results are stored in a new column ('wind_direction_label').\n",
    "\n",
    "Afterwards, a new dataframe is the dataframe is created by selecting and retaining specific columns from the original DataFrame, aiming to optimize resource usage. This dataframe is then splitted into training, testing, and validation sets. Proper data splitting is foundational for developing reliable machine learning models. Data splitting empowers practitioners to create models that generalize well to new data. [^12][^13]"
   ]
  },
  {
   "cell_type": "markdown",
   "metadata": {},
   "source": [
    "[^10]: ECMWF (2023a): ERA5: data documentation. URL: https://confluence.ecmwf.int/display/CKB/ERA5%3A+data+documentation\n",
    "[^11]: ECMWF (2023c): ERA5: data documentation parameterlistings. URL: https://confluence.ecmwf.int/display/CKB/ERA5%3A+data+documentation#ERA5:datadocumentation-Parameterlistings\n",
    "[^12]: Scikit-learn (2023a): https://scikit-learn.org/stable/documentation.html\n",
    "[^13]: Hastie, T., Tibshirani, R., & Friedman, J. (2009). The Elements of Statistical Learning."
   ]
  },
  {
   "cell_type": "code",
   "execution_count": 2,
   "metadata": {},
   "outputs": [
    {
     "ename": "ModuleNotFoundError",
     "evalue": "No module named 'pandas'",
     "output_type": "error",
     "traceback": [
      "\u001b[1;31m---------------------------------------------------------------------------\u001b[0m",
      "\u001b[1;31mModuleNotFoundError\u001b[0m                       Traceback (most recent call last)",
      "Cell \u001b[1;32mIn[2], line 2\u001b[0m\n\u001b[0;32m      1\u001b[0m \u001b[38;5;66;03m# import dependencies \u001b[39;00m\n\u001b[1;32m----> 2\u001b[0m \u001b[38;5;28;01mimport\u001b[39;00m \u001b[38;5;21;01mpandas\u001b[39;00m \u001b[38;5;28;01mas\u001b[39;00m \u001b[38;5;21;01mpd\u001b[39;00m\n\u001b[0;32m      3\u001b[0m \u001b[38;5;28;01mimport\u001b[39;00m \u001b[38;5;21;01mnumpy\u001b[39;00m \u001b[38;5;28;01mas\u001b[39;00m \u001b[38;5;21;01mnp\u001b[39;00m\n\u001b[0;32m      4\u001b[0m \u001b[38;5;28;01mimport\u001b[39;00m \u001b[38;5;21;01mdatetime\u001b[39;00m\n",
      "\u001b[1;31mModuleNotFoundError\u001b[0m: No module named 'pandas'"
     ]
    }
   ],
   "source": [
    "# import dependencies \n",
    "import pandas as pd\n",
    "import numpy as np\n",
    "import datetime\n",
    "import math\n",
    "import matplotlib.pyplot as plt\n",
    "from matplotlib import rcParams\n",
    "import seaborn as sns\n",
    "from sklearn.preprocessing import StandardScaler\n",
    "import warnings\n",
    "warnings.filterwarnings(\"ignore\")\n",
    "\n",
    "#import data\n",
    "df_full = pd.read_csv(\"../data/external/feature_data_substation_bancroft_labelled.csv\")\n",
    "df_full.head()"
   ]
  },
  {
   "cell_type": "code",
   "execution_count": null,
   "metadata": {},
   "outputs": [],
   "source": [
    "# Change datetime columns to datetime format\n",
    "df_full['run_datetime'] = pd.to_datetime(df_full['run_datetime'])\n",
    "df_full['valid_datetime'] = pd.to_datetime(df_full['valid_datetime'])\n",
    "\n",
    "# Add temperature column for degree in celsius\n",
    "df_full['avg_temp_celsius'] = df_full['avg_temp'] - 273.15\n",
    "\n",
    "# Translate wind directions into cardinal directions\n",
    "def wind_direction_label(degrees):\n",
    "    if 22.5 < degrees <= 67.5:\n",
    "        return 'Northeast'\n",
    "    elif 67.5 < degrees <= 112.5:\n",
    "        return 'East'\n",
    "    elif 112.5 < degrees <= 157.5:\n",
    "        return 'Southeast'\n",
    "    elif 157.5 < degrees <= 202.5:\n",
    "        return 'South'\n",
    "    elif 202.5 < degrees <= 247.5:\n",
    "        return 'Southwest'\n",
    "    elif 247.5 < degrees <= 292.5:\n",
    "        return 'West'\n",
    "    elif 292.5 < degrees <= 337.5:\n",
    "        return 'Northwest'\n",
    "    else:\n",
    "        return 'North'\n",
    "    \n",
    "df_full['wind_direction_label'] = df_full['avg_winddir'].apply(wind_direction_label)"
   ]
  },
  {
   "cell_type": "markdown",
   "metadata": {},
   "source": [
    "### 1.3 Research Questions\n",
    "The research is guided by four pivotal questions, addressed through regression and classification analyses.\n",
    "\n",
    "**Regression Analysis:**  \n",
    "Is it possible to accurately predict the temperature and its relationship with wind characteristics using historical data? This question is inspired by the current understanding of atmospheric variables and their interactions and specified as follows:  \n",
    "\n",
    "*1. Temperature Prediction:* Is it possible to build an accurate regression model to predict temperature based on historical data?   \n",
    "*2. Temperature and Wind Modeling:* Is it possible to find a correlation or causation between the temperature and the wind features windspeed, windgust or winddirection using regression techniques?   \n",
    "*3. Multivariate Temperature Prediction / Linear Regression of Temperature with Multiple Predictors:* How does the incorporation of multiple atmospheric predictors, such as windspeed, windgust, winddirection, air pressure, snow and ice parameters enhance the accuracy of temperature prediction compared to a model solely based on windspeed?   \n",
    "*4. Extreme Weather Event Prediction by Temperature in Logistic Regression:* Can logistic regression effectively classify and predict the occurrence of extreme or normal weather events based on temperature (or alternatively windspeed) ranges?   \n",
    "\n",
    "*Regression Hypothesis:* There exists a significant correlation between temperature and wind characteristics, which can be modeled to predict future temperature trends and variations. This hypothesis is based on the premise that atmospheric variables are interconnected and can be analyzed to forecast weather conditions.\n",
    "\n",
    "\n",
    "**Classification Analysis:**  \n",
    "Can effective classification and prediction of weather events, including extreme occurrences, be achieved based on multivariate weather data? This aspect of the research aims to develop methods for accurate prediction of weather events, acknowledging the complexity and variability of weather patterns and is specified as follows:\n",
    "\n",
    "*1. Extreme Weather Events in Binary Classification:* Is it possible to classify and predict extreme weather events such as storms? This involves training a binary classification model to identify patterns indicative of extreme events. The result of this classification analysis is the prediction of extreme weather events based on the current weather data and a model that was trained on historical weather data.\n",
    "*2. Weather Event and Pattern Classification in Multiclass Classification:* Is it possible to categorize and predict different extreme weather events based on multivariate weather data? This involves using multiclass classification algorithms. The results of this classification analysis is the prediction of certain weather events based on the current weather data and a model that was trained on historical weather data.\n",
    " temperature trends and variations. This hypothesis is based on the premise that atmospheric variables are interconnected and can be analyzed to forecast weather conditions.\n",
    "\n",
    "* Classification Hypthesis:* Specific patterns in the weather data can accurately predict various weather events, including extreme conditions. This hypothesis is informed by the need for effective prediction models in the face of increasingly frequent and severe weather events."
   ]
  },
  {
   "cell_type": "markdown",
   "metadata": {},
   "source": [
    "## 1.4 Exploratory Data Analysis (EDA)"
   ]
  },
  {
   "cell_type": "markdown",
   "metadata": {},
   "source": [
    "!EDA of response variable!"
   ]
  },
  {
   "cell_type": "code",
   "execution_count": null,
   "metadata": {},
   "outputs": [],
   "source": [
    "import matplotlib.dates as mdates\n",
    "\n",
    "rcParams['figure.figsize'] = 4, 3\n",
    "sns.set(style=\"darkgrid\")\n",
    "\n",
    "parameters = [\n",
    "        ('avg_temp', 'Kelvin')\n",
    "    ]\n",
    "\n",
    "def calculate_moving_averages(df, variables, time_periods): # has already been done in previous work at IBM (by Julian Erath) for the dataset # selected_variables = ['max_windgust', 'min_wet_bulb_temp', 'max_snow_density_6', 'max_cumulative_precip', 'max_cumulative_ice', 'max_cumulative_snow', 'avg_windspd','avg_pressure_change','avg_temp','avg_dewpoint','avg_winddir','avg_temp_change'] # selected_time_periods_week = [168] # selected_time_periods_month = [720]\n",
    "    for variable in variables:\n",
    "        for period in time_periods:\n",
    "            ma_column_name = f'MA_{variable}_{period}_hours'\n",
    "            df[ma_column_name] = df[variable].rolling(period, min_periods=1).mean()\n",
    "\n",
    "\n",
    "\n",
    "def plot_weather_parameters(ax, data, parameter, unit):\n",
    "    ax.plot(data.run_datetime, data[parameter], label=f'{parameter} Actual')\n",
    "    ax.plot(data.run_datetime, data[f\"MA_{parameter}_week\"], label=f'{parameter} Weekly MA')\n",
    "    ax.plot(data.run_datetime, data[f\"MA_{parameter}_month\"], label=f'{parameter} Monthly MA')\n",
    "    ax.set_title(f'Bancroft {parameter}')\n",
    "    ax.set_ylabel(unit)\n",
    "\n",
    "    # Set the x-axis major locator to YearLocator and the formatter to the year\n",
    "    ax.xaxis.set_major_locator(mdates.YearLocator())\n",
    "    ax.xaxis.set_major_formatter(mdates.DateFormatter('%Y'))\n",
    "\n",
    "    # Manually add the mid-year tick for July 1st\n",
    "    mid_years = [mdates.date2num(datetime.datetime(year, 7, 1)) for year in range(data.run_datetime.dt.year.min(), data.run_datetime.dt.year.max() + 1)]\n",
    "    ax.set_xticks(list(ax.get_xticks()) + mid_years, minor=True)\n",
    "    ax.xaxis.set_minor_formatter(mdates.DateFormatter('/%m'))\n",
    "\n",
    "    # Rotate the labels for better visibility\n",
    "    plt.setp(ax.xaxis.get_majorticklabels(), rotation=90, ha='right')\n",
    "\n",
    "def create_subplots(data):\n",
    "    fig, axes = plt.subplots(4, 3, figsize=[20,15])\n",
    "\n",
    "    for i, (parameter, unit) in enumerate(parameters):\n",
    "        plot_weather_parameters(axes[i // 3, i % 3], data, parameter, unit)\n",
    "\n",
    "    plt.suptitle('Bancroft weather parameters time series', fontsize=24)\n",
    "    plt.tight_layout()\n",
    "    # Update the legend to handle multiple lines\n",
    "    handles, labels = axes[0, 0].get_legend_handles_labels()\n",
    "    new_labels = [label.replace(\"avg_temp\", \"Average Temp.\").replace(\"MA\", \"Moving Average\") for label in labels]\n",
    "    fig.legend(handles, new_labels, loc='upper right', ncol=3)\n",
    "\n",
    "    plt.show()\n",
    "    plt.savefig('../output/avg_temp.png')\n",
    "\n",
    "create_subplots(df_full)"
   ]
  },
  {
   "cell_type": "markdown",
   "metadata": {},
   "source": [
    "## Methodology"
   ]
  },
  {
   "cell_type": "markdown",
   "metadata": {},
   "source": [
    "> REMOVE THE FOLLOWING TEXT\n",
    "\n",
    "This section includes a brief description of your modeling process.\n",
    "\n",
    "Explain the reasoning for the type of model you're fitting, predictor variables considered for the model.\n",
    "\n",
    "Additionally, show how you arrived at the final model by describing the model selection process, variable transformations (if needed), assessment of conditions and diagnostics, and any other relevant considerations that were part of the model fitting process."
   ]
  },
  {
   "cell_type": "markdown",
   "metadata": {},
   "source": [
    "### 2.1 Methodological Insights and Impact\n",
    "This project employs a range of statistical and machine learning techniques to analyze the ERA5 dataset. The outcomes of this research are expected to not only enhance meteorological understanding but also provide practical tools for weather prediction, with implications for environmental policy and public safety.\n",
    "By harnessing the power of the ERA5 dataset [^10] and advanced analytical techniques [^11], this project aims to contribute valuable insights to the field of meteorology and support informed decision-making in a world increasingly affected by weather-related challenges.\n",
    "\n",
    "### 2.2 Methodology Overview\n",
    "This project uses a multifaceted approach, primarily utilizing Design Science Research (DSR) [^12] in line with Hesse's framework[^13]. This methodological framework focuses on the creation and critical evaluation of artifacts to address specific problems. In this DSR approach, complex weather phenomena are identified as problems to be addressed. Additionally, iterative prototyping [^14] is employed, enabling systematic refinement of models and methods based on continuous evaluation and integration of data-driven insights[^15]. This project combines the DSR cycle by Gregor / Hevner, with iterative prototyping by Wilde / Hess and Goldman / Narayanaswamy. This integration fosters a dynamic environment where each prototype's development and evaluation progressively inform subsequent cycles of design and analysis. This leads into a cycle of artifact creation (in this case, models and algorithms) specifically tailored to analyze weather patterns in Bancroft using the ERA5 dataset. These models will be refined continuously through iterative prototyping, where each iteration's outcomes inform the next cycle, ensuring they are increasingly effective and accurate. The artifacts are then rigorously evaluated against the research questions. The results are evaluated in every iteration using cross-validation by Shao 1993 and Browne 2000[^16].\n",
    "This process is enriched by a comprehensive literature review by Webster / Watson [^17], conducted before and during the implementation, ensuring the methods and analyses remain aligned with current meteorological and data science advancements. The amalgamation of DSR, iterative prototyping, cross-validation and literature research forms the foundation of this approach, ensuring a thorough and robust analysis that is well-suited to address the complexities in atmospheric data analysis."
   ]
  },
  {
   "cell_type": "markdown",
   "metadata": {},
   "source": [
    "For the analysis the data was split into training and testing datasets according to [^22] and [^23].\n",
    "[^22]: Scikit-learn (2023a): https://scikit-learn.org/stable/documentation.html\n",
    "[^23]: Hastie, T., Tibshirani, R., & Friedman, J. (2009). The Elements of Statistical Learning.\n"
   ]
  },
  {
   "cell_type": "markdown",
   "metadata": {},
   "source": [
    "## Results"
   ]
  },
  {
   "cell_type": "markdown",
   "metadata": {},
   "source": [
    "> REMOVE THE FOLLOWING TEXT\n",
    "\n",
    "This is where you will output the final model with any relevant model fit statistics.\n",
    "\n",
    "Describe the key results from the model.\n",
    "The goal is not to interpret every single variable in the model but rather to show that you are proficient in using the model output to address the research questions, using the interpretations to support your conclusions.\n",
    "\n",
    "Focus on the variables that help you answer the research question and that provide relevant context for the reader.\n"
   ]
  },
  {
   "cell_type": "code",
   "execution_count": null,
   "metadata": {},
   "outputs": [],
   "source": []
  },
  {
   "cell_type": "markdown",
   "metadata": {},
   "source": [
    "## Discussion + Conclusion\n"
   ]
  },
  {
   "cell_type": "markdown",
   "metadata": {},
   "source": [
    "In this exploratory data analysis project, titled \"Weather Data Analysis: A Regression and Classification Approach on the ERA5 Dataset,\" an endeavor was made to understand and predict weather patterns in the Bancroft region of Ontario, Canada, utilizing the ERA5 dataset from 2015 to 2022. The project was motivated by the significant role that accurate weather prediction plays in various sectors and the unique climate characteristics of the region, influenced by the lake effect. The complex task of weather prediction was approached through regression and classification analyses, with the aim of modeling weather parameters and predicting weather events, including extreme conditions.\n",
    "\n",
    "## Regression Analysis Findings\n",
    "The regression analyses in chapter 5.3.4. aimed to forecast the temperature with historical data. The research question \"Is it possible to build an accurate regression model to predict temperature based on historical data?\" can be answered with yes. The results indicated that while an exact daily weather forecast remains challenging, satisfactory levels of accuracy in predicting the temperature forecast for the general temperature trends over the year using linear regression models were achieved. Support Vector Regressor emerged as the most effective model in this context.\n",
    "\n",
    "However, predicting the temperature using the wind speed variable in a linear regression analysis (5.3.1.) or a paramerer mix of different variables in a multiple predictor linear regression analysis (5.3.2.) did not proof to be successfull. The research question \"Is it possible to find a correlation or causation between the temperature and windspeed, windgust or winddirection using regression techniques?\" can therefore be answered with no. Using the given data, linear regression models cannot be successfully, with a satisfactory accuracy, be used to predict the temperature with the wind variables or a mix of variables. The analyses proofed, that the cause of this is for one the mostly non-linear relationship of the parameters, which proofs to be a lot more complex. The correlation of the parameters also was not sufficiently high for a linear regression analysis. For these reasons it was decided that the further approach is to continue the analysis with logistic regression and classification techniques.\n",
    "\n",
    "Also, the SARIMAX model used for temperature and wind modeling showed a systematic bias, consistently overestimating temperatures. This highlighted the limitations of using SARIMAX for predicting temperature variations based on wind, prompting the need for further refinement and exploration of alternative modeling approaches.\n",
    "\n",
    "The last regression analysis was using logistic regression techniques to classify extreme weather and bluse sky day events in a binary classification. The research question was \"Can logistic regression effectively classify and predict the occurrence of extreme or normal weather events based on temperature (or alternatively windspeed) ranges?\". The approach to predict extreme weather events based solely on temperature using logistic regression's techniques (5.3.5) was insufficient, often misclassifying extreme events as normal. This underscored the necessity for more complex or multivariate approaches to accurately anticipate hazardous weather conditions. Instead of further optimizing the logistic regression approach (e.g., hyperparameter tuning or multiple predictor regression), it was decided that the more promising approach would be to identify further binary classifiers as presented in the classification analysis chapters.\n",
    "\n",
    "## Classification Analysis Findings\n",
    "In binary classification the goal was to predict whether an observation was an extreme weather or blue sky day event (5.4.1.). The asked research question was \"Is it possible to classify and predict extreme weather events such as storms?\". It was identified that extreme weather events can indeed very accurately be separated from blue sky day events and both classes can be predicted with a very high accuracy, precision and recall. \"ExtraTreesClassifier,\" \"XGBClassifier,\" \"RandomForestClassifier,\" and \"LGBMClassifier\" are the top-performing classifiers based on LazyClassifier's assessment. Each demonstrated high accuracy, with XGBoost slightly leading the pack. These models proved effective in categorizing and predicting weather events from the given data, providing valuable tools for future weather prediction endeavors. The results of this analysis could then be used in multiclass classification, to determine the specific type of extreme weather event.\n",
    "\n",
    "The multiclass classification further nuanced the understanding of various weather events (5.4.2.). The goal was to determine and classify the specific type of extreme weather event, answering the research question \"Is it possible to categorize and predict different extreme weather events based on multivariate weather data?\". The research question can be answered with yes, the prediction and categorization of various extreme weather events is possible with a very high accuracy, precision and recall. Gradient boosting emerged as a particularly potent method, achieving high precision, recall, and F1-scores across all classes. This success illustrates the potential of sophisticated classification algorithms in deciphering complex weather patterns and predicting diverse weather events. This knowlegde can then also be used by scientists for further research for governmental institutions, e.g., when it comes to taking countermeasures to prevent damage from certain extreme weather events and minimize the risks and dangers.\n",
    "\n",
    "## Critical reflection and outlook\n",
    "This project's journey through regression and classification analyses of weather data has provided a deeper insight into the atmospheric dynamics of Bancroft, Ontario. While profound analyses and research in temperature trend prediction and weather event classification was made, the challenges and inaccuracies encountered remind of the complexities inherent in meteorological studies. Predicting the weather accurately remains a daunting task, demanding continual refinement of models and methods.\n",
    "\n",
    "Critically reflecting on the used methodology and procedure, it can be said, that after conducting the EDA, which showed, that wind and temperature variables do not correlate or show association, further regression analyses of these parameters could have been discontinued there. But since scientific literature discussed, that such an analysis proofs to be valuable and other researchers already made successfull aproaches with those techniques on this data, the approach was continued, to further evaluate patterns and characteristics of temperature and wind parameters and their correlations. Especially the mutliple predictor analysis promised to deliver interesting results and after all, the research question and hypotheses could succesfully be refuted, which in the end is a very valuable contribution to science.\n",
    "\n",
    "Furthermore, the original ERA5 dataset was reduced using PCA and feature forward selection / feature backward deletion to conduct analysis on feature relevance. Only a reduced dataset of parameters was used in the final analyses. In further research other variables and their association / correlation could be analyzed. For example, literature suggests that cloud cover has a strong influence on air temperature. Using the same methodology and implemenation as in this assignment, simply switching the parameters, additional research with valuable insights into meteorological data can be conducted, resulting in better results.\n",
    "\n",
    "Moreover, the generalizability of the data has to be scrutinized, as the analyses are based on regional data and meteorological data is always very biased towards regional effects. Conducting the same analysis on data for regions in e.g., African countries might result in completely different results.\n",
    "\n",
    "The unpredictability and irregularity of weather and temperature patterns is a crucial aspect that adds complexity to the analysis. Acknowledging the irregular nature of meteorological phenomena emphasizes the inherent challenges in making precise predictions, even with advanced analytical techniques.\n",
    "\n",
    "While the analyses presented valuable insights, the potential for further optimization, including hyperparameter tuning, remains. Exploring these avenues could enhance the performance of the models and provide more accurate predictions, especially in the context of fine-tuning parameters for machine learning algorithms. \n",
    "\n",
    "The exploration of weather patterns could be expanded to include a dedicated analysis of trends related to climate change. Understanding the long-term impacts on temperature and weather events could provide valuable insights into the broader environmental context.\n",
    "\n",
    "Acknowledging that certain factors, such as climate change and omitted variable bias, might not have been explicitly addressed in the analysis, highlights the potential sources of variance and errors. Future research could delve deeper into these factors to refine models and improve predictive accuracy.\n",
    "It's essential to recognize that certain aspects, possibly including external factors or variables not considered in the analysis, might influence the weather and temperature trends. Acknowledging what falls out of the scope of the current study adds a layer of humility to the findings and encourages future researchers to explore additional dimensions.\n",
    "\n",
    "\n",
    "In summary, while the project has contributed significantly to understanding and predicting weather patterns, there exist additional dimensions and challenges that warrant exploration. The complexities of meteorological studies, coupled with the acknowledgment of unpredictable weather dynamics, call for continual refinement, optimization, and consideration of broader environmental factors for a comprehensive understanding of weather phenomena.\n",
    "Our findings contribute to the broader discourse on weather prediction, emphasizing the need for multidimensional approaches and the potential of machine learning techniques. As climate variability continues to present profound challenges, the insights garnered here offer a stepping stone towards more accurate, reliable, and comprehensive weather forecasting methods. Moving forward, integrating more diverse datasets, refining models, and exploring new methodologies will be crucial in enhancing the predictive capabilities and understanding of weather patterns. This endeavor not only aids in better forecasting but also in strategic planning and preparedness for the diverse impacts of weather and climate change across sectors.\n"
   ]
  },
  {
   "cell_type": "markdown",
   "metadata": {},
   "source": [
    "## Apendix\n",
    "\n",
    "### Data Dictionary"
   ]
  },
  {
   "cell_type": "code",
   "execution_count": null,
   "metadata": {},
   "outputs": [],
   "source": [
    "data = {\n",
    "    'Name': [\n",
    "        'run_datetime',\n",
    "        'wep',\n",
    "        'avg_temp',\n",
    "        'min_wet_bulb_temp',\n",
    "        'avg_dewpoint',\n",
    "        'avg_temp_change',\n",
    "        'avg_windspd',\n",
    "        'max_windgust',\n",
    "        'avg_winddir',\n",
    "        'wind_direction_label',\n",
    "        'max_cumulative_precip',\n",
    "        'max_snow_density_6',\n",
    "        'max_cumulative_snow',\n",
    "        'max_cumulative_ice',\n",
    "        'avg_pressure_change'\n",
    "        ],\n",
    "    'Description': [\n",
    "        'Date and time when the weather observations were recorded.',\n",
    "        'Weather Event Type (WEP) is a categorization of weather conditions based on specific parameters at a given location and time.',\n",
    "        'The average temperature measured at two meters above ground level, considering all sensors, for the entire duration of one hour in the Bancroft region.',\n",
    "        'Minimum wet bulb temperature recorded during the observation period, considering all sensors, for the entire duration of one hour in the Bancroft region.',\n",
    "        'Average dewpoint temperature observed during the recording period, considering all sensors, for the entire duration of one hour in the Bancroft region.',\n",
    "        'Average change in temperature during the observation period, obtained by calculating the difference between this observation and the following.',\n",
    "        'Average wind speed measured during the recording period, considering all sensors, for the entire duration of one hour in the Bancroft region.',\n",
    "        'Maximum wind gust observed during the recording period, considering all sensors, for the entire duration of one hour in the Bancroft region.',\n",
    "        'Average wind direction (in degree) observed during the recording period, considering all sensors, for the entire duration of one hour in the Bancroft region.',\n",
    "        'Wind direction (in cardinal direction) observed during the recording period, obtained by recalculating the avg_winddir parameter.',\n",
    "        'Maximum cumulative precipitation recorded, considering all sensors, for the entire duration of one hour in the Bancroft region.',\n",
    "        'Maximum snow density at a depth of 6 inches, considering all sensors, for the entire duration of one hour in the Bancroft region.',\n",
    "        'Maximum cumulative snow recorded, considering all sensors, for the entire duration of one hour in the Bancroft region.',\n",
    "        'Maximum cumulative ice recorded, considering all sensors, for the entire duration of one hour in the Bancroft region.',\n",
    "        'Average change in atmospheric pressure during the observation period, considering all sensors, for the entire duration of one hour in the Bancroft region.'\n",
    "        ],\n",
    "    'Role': [\n",
    "        'ID / predictor', \n",
    "        'response', \n",
    "        'response / predictor', \n",
    "        'predictor',\n",
    "        'predictor',\n",
    "        'predictor',\n",
    "        'predictor',\n",
    "        'predictor',\n",
    "        'predictor',\n",
    "        'predictor',\n",
    "        'predictor',\n",
    "        'predictor',\n",
    "        'predictor',\n",
    "        'predictor',\n",
    "        'predictor'\n",
    "        ],\n",
    "    'Type': [\n",
    "        'numerical continuous / ID', \n",
    "        'categorical nominal', \n",
    "        'numerical continuous', \n",
    "        'numerical continuous', \n",
    "        'numerical continuous', \n",
    "        'numerical continuous', \n",
    "        'numerical continuous', \n",
    "        'numerical continuous', \n",
    "        'numerical continuous', \n",
    "        'categorical ordinal', \n",
    "        'numerical continuous',\n",
    "        'numerical continuous',\n",
    "        'numerical continuous',\n",
    "        'numerical continuous',\n",
    "        'numerical continuous'\n",
    "        ],\n",
    "    'Format': [\n",
    "        type(df_full['run_datetime'][0]),\n",
    "        type(df_full['wep'][0]), \n",
    "        type(df_full['min_wet_bulb_temp'][0]),\n",
    "        type(df_full['avg_temp'][0]), \n",
    "        type(df_full['avg_dewpoint'][0]), \n",
    "        type(df_full['avg_temp_change'][0]), \n",
    "        type(df_full['avg_windspd'][0]), \n",
    "        type(df_full['max_windgust'][0]),\n",
    "        type(df_full['avg_winddir'][0]), \n",
    "        type(df_full['wind_direction_label'][0]), \n",
    "        type(df_full['max_cumulative_precip'][0]), \n",
    "        type(df_full['max_snow_density_6'][0]),\n",
    "        type(df_full['max_cumulative_snow'][0]), \n",
    "        type(df_full['max_cumulative_ice'][0]), \n",
    "        type(df_full['avg_pressure_change'][0])\n",
    "]\n",
    "}\n",
    "\n",
    "data_dict_df = pd.DataFrame(data)\n",
    "\n",
    "# Display the data dictionary\n",
    "data_dict_df"
   ]
  },
  {
   "cell_type": "markdown",
   "metadata": {},
   "source": [
    "### Sources\n",
    "\n",
    "[^1]: de Lima, Glauston, R.T. / Stephan, S. (2013): A new classification approach for detecting severe weather patterns, in: Computers & geosciences 57 (2013): 158-165.\n",
    "[^2]: ECMWF (2023a): ERA5: data documentation. URL: https://confluence.ecmwf.int/display/CKB/ERA5%3A+data+documentation\n",
    "[^3]: Liljequist, G.H. / Cehak, K. (1984): Allgemeine Meteorologie. 3. Auflage, Springer-Verlag.\n",
    "[^4]: Fathi, M. / Haghi Kashani, M. / Jameii, S. M. / Mahdipour, E. (2022): Big Data Analytics in Weather Forecasting: A Systematic Review, in: Archives of Computational Methods in Engineering 29.2 (2022, Springer): 1247–1275\n",
    "[^5]: Hjelmfelt, M.R. (1990): Numerical study of the influence of environmental conditions on lake-effect snowstorms over Lake Michigan, in: Monthly Weather Review, 118(1), pp.138-150.\n",
    "[^6]: Ghirardelli, J.E. (2005): An Overview of the Redeveloped Localized Aviation Mos Program (Lamp) For Short-Range Forecasting.\n",
    "[^7]: [The contribution of weather forecast information to agriculture, water, and energy sectors in East and West Africa](https://www.frontiersin.org/articles/10.3389/fenvs.2022.935696/full)\n",
    "[^8]: [A Hybrid Dataset of Historical Cool-Season Lake Effects From the Eastern Great Lakes of North America](https://www.frontiersin.org/journals/water/articles/10.3389/frwa.2022.788493/full)\n",
    "[^9]: [Evaluation of spatial-temporal variation performance of ERA5 precipitation data in China](https://www.nature.com/articles/s41598-021-97432-y)\n",
    "[^10]: ECMWF (2023b): ERA5: reanalysis datasets for forecasts. URL: https://www.ecmwf.int/en/forecasts/datasets/reanalysis-datasets/era5\n",
    "[^11]: Fathi, M. / Haghi Kashani, M. / Jameii, S. M. / Mahdipour, E. (2022): Big Data Analytics in Weather Forecasting: A Systematic Review, in: Archives of Computational Methods in Engineering 29.2 (2022, Springer): 1247–1275\n",
    "[^12]: Gregor, S. / Hevner, A.R. (2013): Positioning and Presenting Design Science Research for Maximum Impact, in: MIS Quarterly, Jg. 37, Nr. 2, S. 337-355; Hevner, A. / Chatterjee, S. (2010): Design Research in Information Systems, Theory and Practice. Hrsg. von R. Sharda/S. Voß. Bd. 22. Integrated Series in Information Systems. New York, NY, USA: Springer New York, NY.; Hevner, A. / March, S.T. / Park, J. / Ram, S. (2004): Design Science in Information Systems Research, in: MIS Quaterly 28.1, S. 75–105.\n",
    "[^13]: [Design Science in Information Systems Research.](https://www.researchgate.net/publication/201168946_Design_Science_in_Information_Systems_Research)\n",
    "[^14]: Wilde, T. and Hess, T., 2007. Forschungsmethoden der wirtschaftsinformatik. Wirtschaftsinformatik, 4(49), pp.280-287.; Goldman, N. and Narayanaswamy, K., 1992, June. Software evolution through iterative prototyping. In Proceedings of the 14th international conference on Software engineering (pp. 158-172).\n",
    "[^15]: [Reflective physical prototyping through integrated design, test, and analysis](https://www.researchgate.net/publication/220877433_Reflective_physical_prototyping_through_integrated_design_test_and_analysis)\n",
    "[^16]: Shao, J., 1993. Linear model selection by cross-validation. Journal of the American statistical Association, pp.486-494.; Browne, M.W., 2000. Cross-validation methods. Journal of mathematical psychology, 44(1), pp.108-132.\n",
    "[^17]: Webster, J. / Watson, R.T. (2002): Analyzing the past to prepare for the future: Writing a literature review, in: MIS quarterly. Jun 1: xiii-xiii.\n",
    "[^18]: ECMWF (2023c): ERA5: data documentation parameterlistings. URL: https://confluence.ecmwf.int/display/CKB/ERA5%3A+data+documentation#ERA5:datadocumentation-Parameterlistings\n",
    "[^19]: ECMWF (2023a): ERA5: data documentation. URL: https://confluence.ecmwf.int/display/CKB/ERA5%3A+data+documentation\n"
   ]
  }
 ],
 "metadata": {
  "kernelspec": {
   "display_name": "Python 3 (ipykernel)",
   "language": "python",
   "name": "python3"
  },
  "language_info": {
   "codemirror_mode": {
    "name": "ipython",
    "version": 3
   },
   "file_extension": ".py",
   "mimetype": "text/x-python",
   "name": "python",
   "nbconvert_exporter": "python",
   "pygments_lexer": "ipython3",
   "version": "3.10.0"
  },
  "vscode": {
   "interpreter": {
    "hash": "31f2aee4e71d21fbe5cf8b01ff0e069b9275f58929596ceb00d14d90e3e16cd6"
   }
  }
 },
 "nbformat": 4,
 "nbformat_minor": 2
}
